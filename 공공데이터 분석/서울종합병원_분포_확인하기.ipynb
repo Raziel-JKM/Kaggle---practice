{
  "nbformat": 4,
  "nbformat_minor": 0,
  "metadata": {
    "colab": {
      "name": "서울종합병원 분포 확인하기.ipynb",
      "provenance": [],
      "mount_file_id": "1JoW37y7Cyiq3CeDRI7WWe6rJnohRv6h0",
      "authorship_tag": "ABX9TyNe9pAfzzv+KYWSWYBoGgqU",
      "include_colab_link": true
    },
    "kernelspec": {
      "name": "python3",
      "display_name": "Python 3"
    },
    "language_info": {
      "name": "python"
    }
  },
  "cells": [
    {
      "cell_type": "markdown",
      "metadata": {
        "id": "view-in-github",
        "colab_type": "text"
      },
      "source": [
        "<a href=\"https://colab.research.google.com/github/Raziel-JKM/Kaggle/blob/main/%EA%B3%B5%EA%B3%B5%EB%8D%B0%EC%9D%B4%ED%84%B0%20%EB%B6%84%EC%84%9D/%EC%84%9C%EC%9A%B8%EC%A2%85%ED%95%A9%EB%B3%91%EC%9B%90_%EB%B6%84%ED%8F%AC_%ED%99%95%EC%9D%B8%ED%95%98%EA%B8%B0.ipynb\" target=\"_parent\"><img src=\"https://colab.research.google.com/assets/colab-badge.svg\" alt=\"Open In Colab\"/></a>"
      ]
    },
    {
      "cell_type": "markdown",
      "metadata": {
        "id": "Zhn9KKJjDKxN"
      },
      "source": [
        "[10분 pandas](https://pandas.pydata.org/pandas-docs/version/1.0.0/getting_started/10min.html)"
      ]
    },
    {
      "cell_type": "code",
      "metadata": {
        "id": "tWMGda5FBsvU"
      },
      "source": [
        "import pandas as pd"
      ],
      "execution_count": 12,
      "outputs": []
    },
    {
      "cell_type": "code",
      "metadata": {
        "colab": {
          "base_uri": "https://localhost:8080/",
          "height": 143
        },
        "id": "Ee-26MhyBrFa",
        "outputId": "0c73376b-dcab-44f4-bac7-2de40f95e075"
      },
      "source": [
        "df = pd.DataFrame(\n",
        "{\"a\" : [4, 5, 6],\n",
        "\"b\" : [7, 8, 9],\n",
        "\"c\" : [10, 11, 12]},\n",
        "index = [1, 2, 3])\n",
        "df"
      ],
      "execution_count": 13,
      "outputs": [
        {
          "output_type": "execute_result",
          "data": {
            "text/html": [
              "<div>\n",
              "<style scoped>\n",
              "    .dataframe tbody tr th:only-of-type {\n",
              "        vertical-align: middle;\n",
              "    }\n",
              "\n",
              "    .dataframe tbody tr th {\n",
              "        vertical-align: top;\n",
              "    }\n",
              "\n",
              "    .dataframe thead th {\n",
              "        text-align: right;\n",
              "    }\n",
              "</style>\n",
              "<table border=\"1\" class=\"dataframe\">\n",
              "  <thead>\n",
              "    <tr style=\"text-align: right;\">\n",
              "      <th></th>\n",
              "      <th>a</th>\n",
              "      <th>b</th>\n",
              "      <th>c</th>\n",
              "    </tr>\n",
              "  </thead>\n",
              "  <tbody>\n",
              "    <tr>\n",
              "      <th>1</th>\n",
              "      <td>4</td>\n",
              "      <td>7</td>\n",
              "      <td>10</td>\n",
              "    </tr>\n",
              "    <tr>\n",
              "      <th>2</th>\n",
              "      <td>5</td>\n",
              "      <td>8</td>\n",
              "      <td>11</td>\n",
              "    </tr>\n",
              "    <tr>\n",
              "      <th>3</th>\n",
              "      <td>6</td>\n",
              "      <td>9</td>\n",
              "      <td>12</td>\n",
              "    </tr>\n",
              "  </tbody>\n",
              "</table>\n",
              "</div>"
            ],
            "text/plain": [
              "   a  b   c\n",
              "1  4  7  10\n",
              "2  5  8  11\n",
              "3  6  9  12"
            ]
          },
          "metadata": {
            "tags": []
          },
          "execution_count": 13
        }
      ]
    },
    {
      "cell_type": "code",
      "metadata": {
        "id": "pu8OUQe5Bz73"
      },
      "source": [
        "# # Rows 기준 예시\n",
        "# df[[df.Length > 7]]\n",
        "\n",
        "\n",
        "# # Columns 기준 예시\n",
        "# df[['width', 'length', 'species']]\n"
      ],
      "execution_count": 14,
      "outputs": []
    },
    {
      "cell_type": "code",
      "metadata": {
        "colab": {
          "base_uri": "https://localhost:8080/"
        },
        "id": "EztPFEyVCEoZ",
        "outputId": "834fcdd8-dad0-47a3-e566-29c103158b2d"
      },
      "source": [
        "df[\"a\"].value_counts() #Categorical한 값의 빈도수를 구하는 방법"
      ],
      "execution_count": 15,
      "outputs": [
        {
          "output_type": "execute_result",
          "data": {
            "text/plain": [
              "6    1\n",
              "5    1\n",
              "4    1\n",
              "Name: a, dtype: int64"
            ]
          },
          "metadata": {
            "tags": []
          },
          "execution_count": 15
        }
      ]
    },
    {
      "cell_type": "code",
      "metadata": {
        "colab": {
          "base_uri": "https://localhost:8080/"
        },
        "id": "5CO_k-iLCK_7",
        "outputId": "97a5e359-f517-4ec7-e5b5-4e70e3fe676c"
      },
      "source": [
        "df[\"a\"].sort_values() # \"a\"컬럼을 기준으로 정렬하기"
      ],
      "execution_count": 16,
      "outputs": [
        {
          "output_type": "execute_result",
          "data": {
            "text/plain": [
              "1    4\n",
              "2    5\n",
              "3    6\n",
              "Name: a, dtype: int64"
            ]
          },
          "metadata": {
            "tags": []
          },
          "execution_count": 16
        }
      ]
    },
    {
      "cell_type": "code",
      "metadata": {
        "colab": {
          "base_uri": "https://localhost:8080/",
          "height": 143
        },
        "id": "BUPa2K8KCT83",
        "outputId": "4d13fb70-97bb-4cc8-edae-499b18813f4e"
      },
      "source": [
        "df.sort_values(\"a\") #DataFrame 전체에서 \"a\"값을 기준으로 정렬하기"
      ],
      "execution_count": 17,
      "outputs": [
        {
          "output_type": "execute_result",
          "data": {
            "text/html": [
              "<div>\n",
              "<style scoped>\n",
              "    .dataframe tbody tr th:only-of-type {\n",
              "        vertical-align: middle;\n",
              "    }\n",
              "\n",
              "    .dataframe tbody tr th {\n",
              "        vertical-align: top;\n",
              "    }\n",
              "\n",
              "    .dataframe thead th {\n",
              "        text-align: right;\n",
              "    }\n",
              "</style>\n",
              "<table border=\"1\" class=\"dataframe\">\n",
              "  <thead>\n",
              "    <tr style=\"text-align: right;\">\n",
              "      <th></th>\n",
              "      <th>a</th>\n",
              "      <th>b</th>\n",
              "      <th>c</th>\n",
              "    </tr>\n",
              "  </thead>\n",
              "  <tbody>\n",
              "    <tr>\n",
              "      <th>1</th>\n",
              "      <td>4</td>\n",
              "      <td>7</td>\n",
              "      <td>10</td>\n",
              "    </tr>\n",
              "    <tr>\n",
              "      <th>2</th>\n",
              "      <td>5</td>\n",
              "      <td>8</td>\n",
              "      <td>11</td>\n",
              "    </tr>\n",
              "    <tr>\n",
              "      <th>3</th>\n",
              "      <td>6</td>\n",
              "      <td>9</td>\n",
              "      <td>12</td>\n",
              "    </tr>\n",
              "  </tbody>\n",
              "</table>\n",
              "</div>"
            ],
            "text/plain": [
              "   a  b   c\n",
              "1  4  7  10\n",
              "2  5  8  11\n",
              "3  6  9  12"
            ]
          },
          "metadata": {
            "tags": []
          },
          "execution_count": 17
        }
      ]
    },
    {
      "cell_type": "code",
      "metadata": {
        "colab": {
          "base_uri": "https://localhost:8080/",
          "height": 143
        },
        "id": "i4Jac-WeCW4I",
        "outputId": "b5ec5fd2-8445-425d-aa6b-dfa2257916b6"
      },
      "source": [
        "df.sort_values(\"a\", ascending=False) #역순으로 정렬하기"
      ],
      "execution_count": 18,
      "outputs": [
        {
          "output_type": "execute_result",
          "data": {
            "text/html": [
              "<div>\n",
              "<style scoped>\n",
              "    .dataframe tbody tr th:only-of-type {\n",
              "        vertical-align: middle;\n",
              "    }\n",
              "\n",
              "    .dataframe tbody tr th {\n",
              "        vertical-align: top;\n",
              "    }\n",
              "\n",
              "    .dataframe thead th {\n",
              "        text-align: right;\n",
              "    }\n",
              "</style>\n",
              "<table border=\"1\" class=\"dataframe\">\n",
              "  <thead>\n",
              "    <tr style=\"text-align: right;\">\n",
              "      <th></th>\n",
              "      <th>a</th>\n",
              "      <th>b</th>\n",
              "      <th>c</th>\n",
              "    </tr>\n",
              "  </thead>\n",
              "  <tbody>\n",
              "    <tr>\n",
              "      <th>3</th>\n",
              "      <td>6</td>\n",
              "      <td>9</td>\n",
              "      <td>12</td>\n",
              "    </tr>\n",
              "    <tr>\n",
              "      <th>2</th>\n",
              "      <td>5</td>\n",
              "      <td>8</td>\n",
              "      <td>11</td>\n",
              "    </tr>\n",
              "    <tr>\n",
              "      <th>1</th>\n",
              "      <td>4</td>\n",
              "      <td>7</td>\n",
              "      <td>10</td>\n",
              "    </tr>\n",
              "  </tbody>\n",
              "</table>\n",
              "</div>"
            ],
            "text/plain": [
              "   a  b   c\n",
              "3  6  9  12\n",
              "2  5  8  11\n",
              "1  4  7  10"
            ]
          },
          "metadata": {
            "tags": []
          },
          "execution_count": 18
        }
      ]
    },
    {
      "cell_type": "code",
      "metadata": {
        "colab": {
          "base_uri": "https://localhost:8080/",
          "height": 143
        },
        "id": "qE4b0zJ1CeOv",
        "outputId": "e14e1ecb-d998-487c-81c9-cf0e92d06c7c"
      },
      "source": [
        "df = df.drop([\"c\"], axis=1) #\"c\"컬럼 drop 하기\n",
        "df"
      ],
      "execution_count": 19,
      "outputs": [
        {
          "output_type": "execute_result",
          "data": {
            "text/html": [
              "<div>\n",
              "<style scoped>\n",
              "    .dataframe tbody tr th:only-of-type {\n",
              "        vertical-align: middle;\n",
              "    }\n",
              "\n",
              "    .dataframe tbody tr th {\n",
              "        vertical-align: top;\n",
              "    }\n",
              "\n",
              "    .dataframe thead th {\n",
              "        text-align: right;\n",
              "    }\n",
              "</style>\n",
              "<table border=\"1\" class=\"dataframe\">\n",
              "  <thead>\n",
              "    <tr style=\"text-align: right;\">\n",
              "      <th></th>\n",
              "      <th>a</th>\n",
              "      <th>b</th>\n",
              "    </tr>\n",
              "  </thead>\n",
              "  <tbody>\n",
              "    <tr>\n",
              "      <th>1</th>\n",
              "      <td>4</td>\n",
              "      <td>7</td>\n",
              "    </tr>\n",
              "    <tr>\n",
              "      <th>2</th>\n",
              "      <td>5</td>\n",
              "      <td>8</td>\n",
              "    </tr>\n",
              "    <tr>\n",
              "      <th>3</th>\n",
              "      <td>6</td>\n",
              "      <td>9</td>\n",
              "    </tr>\n",
              "  </tbody>\n",
              "</table>\n",
              "</div>"
            ],
            "text/plain": [
              "   a  b\n",
              "1  4  7\n",
              "2  5  8\n",
              "3  6  9"
            ]
          },
          "metadata": {
            "tags": []
          },
          "execution_count": 19
        }
      ]
    },
    {
      "cell_type": "code",
      "metadata": {
        "colab": {
          "base_uri": "https://localhost:8080/"
        },
        "id": "XT-sTSZxCjsZ",
        "outputId": "09597347-9a85-46ea-a2f1-ac0dc8bd3d9f"
      },
      "source": [
        "df.groupby([\"a\"])[\"b\"].mean()  #\"a\" 컬럼값을 Groupby하여 \"b\"의 컬럼값 평균값 구하기 "
      ],
      "execution_count": 20,
      "outputs": [
        {
          "output_type": "execute_result",
          "data": {
            "text/plain": [
              "a\n",
              "4    7\n",
              "5    8\n",
              "6    9\n",
              "Name: b, dtype: int64"
            ]
          },
          "metadata": {
            "tags": []
          },
          "execution_count": 20
        }
      ]
    },
    {
      "cell_type": "code",
      "metadata": {
        "colab": {
          "base_uri": "https://localhost:8080/",
          "height": 175
        },
        "id": "ueZwlZn7CouJ",
        "outputId": "8ad8636d-3ed9-4bc6-b737-1d80884ef75b"
      },
      "source": [
        "pd.pivot_table(df, index=\"a\") # pivot_table로 평균값 구하기 --> \"a\" 컬럼에 있는 값이 4가 두 개가 있기 때문에 그 값의 평균값이 적용이 됩니다.\n"
      ],
      "execution_count": 21,
      "outputs": [
        {
          "output_type": "execute_result",
          "data": {
            "text/html": [
              "<div>\n",
              "<style scoped>\n",
              "    .dataframe tbody tr th:only-of-type {\n",
              "        vertical-align: middle;\n",
              "    }\n",
              "\n",
              "    .dataframe tbody tr th {\n",
              "        vertical-align: top;\n",
              "    }\n",
              "\n",
              "    .dataframe thead th {\n",
              "        text-align: right;\n",
              "    }\n",
              "</style>\n",
              "<table border=\"1\" class=\"dataframe\">\n",
              "  <thead>\n",
              "    <tr style=\"text-align: right;\">\n",
              "      <th></th>\n",
              "      <th>b</th>\n",
              "    </tr>\n",
              "    <tr>\n",
              "      <th>a</th>\n",
              "      <th></th>\n",
              "    </tr>\n",
              "  </thead>\n",
              "  <tbody>\n",
              "    <tr>\n",
              "      <th>4</th>\n",
              "      <td>7</td>\n",
              "    </tr>\n",
              "    <tr>\n",
              "      <th>5</th>\n",
              "      <td>8</td>\n",
              "    </tr>\n",
              "    <tr>\n",
              "      <th>6</th>\n",
              "      <td>9</td>\n",
              "    </tr>\n",
              "  </tbody>\n",
              "</table>\n",
              "</div>"
            ],
            "text/plain": [
              "   b\n",
              "a   \n",
              "4  7\n",
              "5  8\n",
              "6  9"
            ]
          },
          "metadata": {
            "tags": []
          },
          "execution_count": 21
        }
      ]
    },
    {
      "cell_type": "code",
      "metadata": {
        "colab": {
          "base_uri": "https://localhost:8080/",
          "height": 282
        },
        "id": "5mC7qJYtC0oR",
        "outputId": "50cc7271-c0a8-4145-ad2d-01885902a951"
      },
      "source": [
        "df.plot()"
      ],
      "execution_count": 22,
      "outputs": [
        {
          "output_type": "execute_result",
          "data": {
            "text/plain": [
              "<matplotlib.axes._subplots.AxesSubplot at 0x7f8f41af6d10>"
            ]
          },
          "metadata": {
            "tags": []
          },
          "execution_count": 22
        },
        {
          "output_type": "display_data",
          "data": {
            "image/png": "[encoded data removed]",
            "text/plain": [
              "<Figure size 432x288 with 1 Axes>"
            ]
          },
          "metadata": {
            "tags": [],
            "needs_background": "light"
          }
        }
      ]
    },
    {
      "cell_type": "code",
      "metadata": {
        "colab": {
          "base_uri": "https://localhost:8080/",
          "height": 279
        },
        "id": "yXk9jftDC2ak",
        "outputId": "9f54d3c7-8bc4-49b7-cc3f-cf79f17ffae2"
      },
      "source": [
        "df.plot.bar()"
      ],
      "execution_count": 23,
      "outputs": [
        {
          "output_type": "execute_result",
          "data": {
            "text/plain": [
              "<matplotlib.axes._subplots.AxesSubplot at 0x7f8f41192c10>"
            ]
          },
          "metadata": {
            "tags": []
          },
          "execution_count": 23
        },
        {
          "output_type": "display_data",
          "data": {
            "image/png": "[encoded data removed]",
            "text/plain": [
              "<Figure size 432x288 with 1 Axes>"
            ]
          },
          "metadata": {
            "tags": [],
            "needs_background": "light"
          }
        }
      ]
    },
    {
      "cell_type": "code",
      "metadata": {
        "colab": {
          "base_uri": "https://localhost:8080/",
          "height": 282
        },
        "id": "OCDGj6ejC4LQ",
        "outputId": "05f98436-d455-45e0-f6c0-18799074e8a3"
      },
      "source": [
        "df.plot.density()"
      ],
      "execution_count": 24,
      "outputs": [
        {
          "output_type": "execute_result",
          "data": {
            "text/plain": [
              "<matplotlib.axes._subplots.AxesSubplot at 0x7f8f40c83910>"
            ]
          },
          "metadata": {
            "tags": []
          },
          "execution_count": 24
        },
        {
          "output_type": "display_data",
          "data": {
            "image/png": "[encoded data removed]",
            "text/plain": [
              "<Figure size 432x288 with 1 Axes>"
            ]
          },
          "metadata": {
            "tags": [],
            "needs_background": "light"
          }
        }
      ]
    },
    {
      "cell_type": "code",
      "metadata": {
        "colab": {
          "base_uri": "https://localhost:8080/"
        },
        "id": "YKwJBEm2FvF9",
        "outputId": "f4270b1a-1534-4c2e-d7c7-94991cd5cc4d"
      },
      "source": [
        "True == \"1\""
      ],
      "execution_count": 25,
      "outputs": [
        {
          "output_type": "execute_result",
          "data": {
            "text/plain": [
              "False"
            ]
          },
          "metadata": {
            "tags": []
          },
          "execution_count": 25
        }
      ]
    },
    {
      "cell_type": "code",
      "metadata": {
        "colab": {
          "base_uri": "https://localhost:8080/"
        },
        "id": "2ZCpXpa7GKkY",
        "outputId": "2d0e4412-d279-4c48-b93e-a52d6772a93d"
      },
      "source": [
        "address = ['경기도', '성남시', '분당구', '불정로', '6', 'NAVER', '그린팩토리']\n",
        "\n",
        "\"경기\" in address"
      ],
      "execution_count": 26,
      "outputs": [
        {
          "output_type": "execute_result",
          "data": {
            "text/plain": [
              "False"
            ]
          },
          "metadata": {
            "tags": []
          },
          "execution_count": 26
        }
      ]
    },
    {
      "cell_type": "code",
      "metadata": {
        "id": "A7_7M96gHAls"
      },
      "source": [
        "import pandas as pd\n",
        "import numpy as np\n",
        "import seaborn as sns # shift + enter 실행  "
      ],
      "execution_count": 56,
      "outputs": []
    },
    {
      "cell_type": "code",
      "metadata": {
        "id": "_3sKXrFJHLXb"
      },
      "source": [
        "import matplotlib.pyplot as plt\n",
        "\n",
        "plt.rc('font', family='AppleGothic')\n",
        "plt.rc('axes', unicode_minus=False) #마이너스 코드 꺠짐 방짐"
      ],
      "execution_count": 57,
      "outputs": []
    },
    {
      "cell_type": "code",
      "metadata": {
        "id": "t5nr4L22HsZr"
      },
      "source": [
        "from IPython.display import set_matplotlib_formats\n",
        "#폰트가 선명하게 보이기 위해\n",
        "set_matplotlib_formats('retina')"
      ],
      "execution_count": 32,
      "outputs": []
    },
    {
      "cell_type": "markdown",
      "metadata": {
        "id": "aivUEIAXIwZa"
      },
      "source": [
        "데이터 로드하기"
      ]
    },
    {
      "cell_type": "code",
      "metadata": {
        "id": "xpCOj2KaITDs"
      },
      "source": [
        "df = pd.read_csv(\"/content/소상공인시장진흥공단_상가업소정보_의료기관_201909.csv\", low_memory=False)\n",
        "#warning low_memory= False 설정 요구"
      ],
      "execution_count": 38,
      "outputs": []
    },
    {
      "cell_type": "code",
      "metadata": {
        "colab": {
          "base_uri": "https://localhost:8080/"
        },
        "id": "z4tC3R14MKd_",
        "outputId": "7668d9a9-234e-4792-9d86-4ca183e42131"
      },
      "source": [
        "df.shape"
      ],
      "execution_count": 39,
      "outputs": [
        {
          "output_type": "execute_result",
          "data": {
            "text/plain": [
              "(91335, 39)"
            ]
          },
          "metadata": {
            "tags": []
          },
          "execution_count": 39
        }
      ]
    },
    {
      "cell_type": "code",
      "metadata": {
        "id": "72hvLTUhM8QD"
      },
      "source": [
        "df.head(3)"
      ],
      "execution_count": null,
      "outputs": []
    },
    {
      "cell_type": "code",
      "metadata": {
        "id": "_G4lGIGGNXk9"
      },
      "source": [
        "df.tail()"
      ],
      "execution_count": null,
      "outputs": []
    },
    {
      "cell_type": "code",
      "metadata": {
        "id": "1AG2bGZfNpJo"
      },
      "source": [
        "df.info()"
      ],
      "execution_count": null,
      "outputs": []
    },
    {
      "cell_type": "code",
      "metadata": {
        "colab": {
          "base_uri": "https://localhost:8080/"
        },
        "id": "Ktyo8IoNNrOK",
        "outputId": "b3678be9-0392-4f79-c937-38520eb3158e"
      },
      "source": [
        "df.dtypes"
      ],
      "execution_count": 48,
      "outputs": [
        {
          "output_type": "execute_result",
          "data": {
            "text/plain": [
              "상가업소번호         int64\n",
              "상호명           object\n",
              "지점명           object\n",
              "상권업종대분류코드     object\n",
              "상권업종대분류명      object\n",
              "상권업종중분류코드     object\n",
              "상권업종중분류명      object\n",
              "상권업종소분류코드     object\n",
              "상권업종소분류명      object\n",
              "표준산업분류코드      object\n",
              "표준산업분류명       object\n",
              "시도코드         float64\n",
              "시도명           object\n",
              "시군구코드        float64\n",
              "시군구명          object\n",
              "행정동코드          int64\n",
              "행정동명          object\n",
              "법정동코드        float64\n",
              "법정동명          object\n",
              "지번코드           int64\n",
              "대지구분코드         int64\n",
              "대지구분명         object\n",
              "지번본번지          int64\n",
              "지번부번지        float64\n",
              "지번주소          object\n",
              "도로명코드          int64\n",
              "도로명           object\n",
              "건물본번지          int64\n",
              "건물부번지        float64\n",
              "건물관리번호        object\n",
              "건물명           object\n",
              "도로명주소         object\n",
              "구우편번호        float64\n",
              "신우편번호        float64\n",
              "동정보           object\n",
              "층정보           object\n",
              "호정보           object\n",
              "경도           float64\n",
              "위도           float64\n",
              "dtype: object"
            ]
          },
          "metadata": {
            "tags": []
          },
          "execution_count": 48
        }
      ]
    },
    {
      "cell_type": "markdown",
      "metadata": {
        "id": "kTK7qPozOoKk"
      },
      "source": [
        "핵심 키워드\n",
        "\n",
        "- isnull().sum()\n",
        "\n",
        "- plot()/plot.bar()/plot.harh()\n",
        "\n",
        "- reset_index\n",
        "\n",
        "- sort_values()\n",
        "\n",
        "- NaN\n",
        "\n",
        "- drop()"
      ]
    },
    {
      "cell_type": "code",
      "metadata": {
        "id": "V44SYoRROqPE"
      },
      "source": [
        "#결측치\n",
        "df.isnull().sum()"
      ],
      "execution_count": null,
      "outputs": []
    },
    {
      "cell_type": "code",
      "metadata": {
        "id": "ecE2_2orO-9W"
      },
      "source": [
        "null_count = df.isnull().sum()\n",
        "null_count"
      ],
      "execution_count": null,
      "outputs": []
    },
    {
      "cell_type": "code",
      "metadata": {
        "id": "tAbJB-SxPNqe"
      },
      "source": [
        "null_count.plot.barh(figsize = (5, 7))"
      ],
      "execution_count": null,
      "outputs": []
    },
    {
      "cell_type": "code",
      "metadata": {
        "id": "vJYPyev9PWbX"
      },
      "source": [
        "df_null_count = null_count.reset_index()#.reset_index() - 데이터 프레임 형태로 변환된다"
      ],
      "execution_count": 70,
      "outputs": []
    },
    {
      "cell_type": "code",
      "metadata": {
        "colab": {
          "base_uri": "https://localhost:8080/",
          "height": 205
        },
        "id": "jmbD0a-4QbGM",
        "outputId": "79158fd3-8270-4ae3-cfef-b0485cacb627"
      },
      "source": [
        "df_null_count.columns = [\"컬럼명\",\"결측치수\"]\n",
        "df_null_count.head()"
      ],
      "execution_count": 71,
      "outputs": [
        {
          "output_type": "execute_result",
          "data": {
            "text/html": [
              "<div>\n",
              "<style scoped>\n",
              "    .dataframe tbody tr th:only-of-type {\n",
              "        vertical-align: middle;\n",
              "    }\n",
              "\n",
              "    .dataframe tbody tr th {\n",
              "        vertical-align: top;\n",
              "    }\n",
              "\n",
              "    .dataframe thead th {\n",
              "        text-align: right;\n",
              "    }\n",
              "</style>\n",
              "<table border=\"1\" class=\"dataframe\">\n",
              "  <thead>\n",
              "    <tr style=\"text-align: right;\">\n",
              "      <th></th>\n",
              "      <th>컬럼명</th>\n",
              "      <th>결측치수</th>\n",
              "    </tr>\n",
              "  </thead>\n",
              "  <tbody>\n",
              "    <tr>\n",
              "      <th>0</th>\n",
              "      <td>상가업소번호</td>\n",
              "      <td>0</td>\n",
              "    </tr>\n",
              "    <tr>\n",
              "      <th>1</th>\n",
              "      <td>상호명</td>\n",
              "      <td>0</td>\n",
              "    </tr>\n",
              "    <tr>\n",
              "      <th>2</th>\n",
              "      <td>지점명</td>\n",
              "      <td>89989</td>\n",
              "    </tr>\n",
              "    <tr>\n",
              "      <th>3</th>\n",
              "      <td>상권업종대분류코드</td>\n",
              "      <td>0</td>\n",
              "    </tr>\n",
              "    <tr>\n",
              "      <th>4</th>\n",
              "      <td>상권업종대분류명</td>\n",
              "      <td>0</td>\n",
              "    </tr>\n",
              "  </tbody>\n",
              "</table>\n",
              "</div>"
            ],
            "text/plain": [
              "         컬럼명   결측치수\n",
              "0     상가업소번호      0\n",
              "1        상호명      0\n",
              "2        지점명  89989\n",
              "3  상권업종대분류코드      0\n",
              "4   상권업종대분류명      0"
            ]
          },
          "metadata": {
            "tags": []
          },
          "execution_count": 71
        }
      ]
    },
    {
      "cell_type": "markdown",
      "metadata": {
        "id": "HGlEd0ttQ71n"
      },
      "source": [
        "정렬하기"
      ]
    },
    {
      "cell_type": "code",
      "metadata": {
        "id": "cfvpkkwoQ_Fi"
      },
      "source": [
        "df_null_count.sort_values(by=\"결측치수\",ascending=False).head(10)\n",
        "#결측치 수 많은대로 상위 10개만 출력합니다.\n",
        "#상위 10개 컬럼을 _top에 담기\n",
        "df_null_count_top = df_null_count.sort_values(by=\"결측치수\",ascending=False).head(10)"
      ],
      "execution_count": 77,
      "outputs": []
    },
    {
      "cell_type": "markdown",
      "metadata": {
        "id": "X_sRcGe8Sqcs"
      },
      "source": [
        "특정 컬럼만 불러오기"
      ]
    },
    {
      "cell_type": "code",
      "metadata": {
        "colab": {
          "base_uri": "https://localhost:8080/"
        },
        "id": "0tNuc49aRtGk",
        "outputId": "06f4b624-7009-4af2-bb7d-1aaf954017d2"
      },
      "source": [
        "df[\"지점명\"] # nan은 Not a Number 의 약자로 결측치를 의미합니다."
      ],
      "execution_count": 75,
      "outputs": [
        {
          "output_type": "execute_result",
          "data": {
            "text/plain": [
              "0         NaN\n",
              "1         NaN\n",
              "2         NaN\n",
              "3         NaN\n",
              "4         수지점\n",
              "         ... \n",
              "91330     베스트\n",
              "91331    봄산후조\n",
              "91332     NaN\n",
              "91333     NaN\n",
              "91334     NaN\n",
              "Name: 지점명, Length: 91335, dtype: object"
            ]
          },
          "metadata": {
            "tags": []
          },
          "execution_count": 75
        }
      ]
    },
    {
      "cell_type": "code",
      "metadata": {
        "id": "tVMDWDneSx0b"
      },
      "source": [
        "#컬럼명이라는 값만 가져와서 drop_columns 라는 변수에 담습니다.\n",
        "df_null_count[\"컬럼명\"]"
      ],
      "execution_count": null,
      "outputs": []
    },
    {
      "cell_type": "code",
      "metadata": {
        "id": "rcfv23XDS9-X"
      },
      "source": [
        "df_null_count_top[\"컬럼명\"].tolist() #.tolist() 리스트형태로 변ㄴ경해준다\n",
        "drop_columns = df_null_count_top[\"컬럼명\"].tolist()"
      ],
      "execution_count": 78,
      "outputs": []
    },
    {
      "cell_type": "code",
      "metadata": {
        "colab": {
          "base_uri": "https://localhost:8080/"
        },
        "id": "9QLyV5jbULz4",
        "outputId": "3c3025d7-e6e0-4f45-82bf-34dcae5d3e6a"
      },
      "source": [
        "df[drop_columns].head"
      ],
      "execution_count": 79,
      "outputs": [
        {
          "output_type": "execute_result",
          "data": {
            "text/plain": [
              "<bound method NDFrame.head of         지점명  동정보  건물부번지  호정보  ... 지번부번지 표준산업분류코드           표준산업분류명  시도코드\n",
              "0       NaN  NaN    NaN  NaN  ...   NaN   Q86201             일반 의원  41.0\n",
              "1       NaN  NaN    NaN  NaN  ...  14.0   Q86201             일반 의원  11.0\n",
              "2       NaN  NaN    NaN  NaN  ...   1.0   Q86201             일반 의원  41.0\n",
              "3       NaN  NaN    NaN  NaN  ...   1.0      NaN               NaN  26.0\n",
              "4       수지점  NaN    NaN  NaN  ...   2.0   G47811    의약품 및 의료용품 소매업  41.0\n",
              "...     ...  ...    ...  ...  ...   ...      ...               ...   ...\n",
              "91330   베스트  NaN    NaN  NaN  ...   NaN   G47811    의약품 및 의료용품 소매업  30.0\n",
              "91331  봄산후조  NaN    NaN  NaN  ...   NaN   S96993  개인 간병인 및 유사 서비스업  41.0\n",
              "91332   NaN  NaN    NaN  NaN  ...   1.0   Q86102             일반 병원  26.0\n",
              "91333   NaN  NaN    NaN  NaN  ...   9.0   Q86203               한의원  11.0\n",
              "91334   NaN  NaN    NaN  NaN  ...  17.0   Q86201             일반 의원  44.0\n",
              "\n",
              "[91335 rows x 10 columns]>"
            ]
          },
          "metadata": {
            "tags": []
          },
          "execution_count": 79
        }
      ]
    },
    {
      "cell_type": "markdown",
      "metadata": {
        "id": "62Qn30A2UUlG"
      },
      "source": [
        "결측치 제거하기"
      ]
    },
    {
      "cell_type": "code",
      "metadata": {
        "colab": {
          "base_uri": "https://localhost:8080/"
        },
        "id": "XHIUGBbCUSEE",
        "outputId": "89136fde-4ed3-4e26-cbd9-46d5e11e2f39"
      },
      "source": [
        "print(df.shape)\n",
        "df = df.drop(drop_columns, axis=1) #inplace 가능 #df = 다시 안해주면 변화없음\n",
        "print(df.shape)"
      ],
      "execution_count": 82,
      "outputs": [
        {
          "output_type": "stream",
          "text": [
            "(91335, 39)\n",
            "(91335, 29)\n"
          ],
          "name": "stdout"
        }
      ]
    },
    {
      "cell_type": "code",
      "metadata": {
        "colab": {
          "base_uri": "https://localhost:8080/"
        },
        "id": "XZWfAUB-VNCd",
        "outputId": "bad7a237-7634-4eda-8a13-0db574a439fc"
      },
      "source": [
        "#제거결과 메모리 사용량이 줄었다.\n",
        "df.info"
      ],
      "execution_count": 84,
      "outputs": [
        {
          "output_type": "execute_result",
          "data": {
            "text/plain": [
              "<bound method DataFrame.info of          상가업소번호           상호명 상권업종대분류코드  ...    신우편번호          경도         위도\n",
              "0      19956873        하나산부인과         S  ...  15236.0  126.814295  37.336344\n",
              "1      20024149      타워광명내과의원         S  ...   6292.0  127.053198  37.488742\n",
              "2      20152277     조정현신경외과의원         S  ...  15066.0  126.734841  37.344955\n",
              "3      20350610      한귀원정신과의원         S  ...  48266.0  129.115438  35.166872\n",
              "4      20364049     더블유스토어수지점         S  ...  16837.0  127.095522  37.323528\n",
              "...         ...           ...       ...  ...      ...         ...        ...\n",
              "91330  16196725         온누리약국         S  ...  35240.0  127.389865  36.352728\n",
              "91331  16192180            리원         S  ...  10503.0  126.830144  37.627530\n",
              "91332  16127538       참좋은요양병원         S  ...  46294.0  129.082790  35.227138\n",
              "91333  16108681       경희중앙한의원         S  ...   5303.0  127.143958  37.540993\n",
              "91334  16109073  천안김안과천안역본점의원         S  ...  31127.0  127.152651  36.806640\n",
              "\n",
              "[91335 rows x 29 columns]>"
            ]
          },
          "metadata": {
            "tags": []
          },
          "execution_count": 84
        }
      ]
    },
    {
      "cell_type": "markdown",
      "metadata": {
        "id": "YUyPi97lVlX6"
      },
      "source": [
        "https://www.boostcourse.org/ds112/lecture/59916?isDesc=false 연결해서 듣기"
      ]
    }
  ]
}