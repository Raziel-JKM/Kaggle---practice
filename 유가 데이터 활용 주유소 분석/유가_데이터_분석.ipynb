{
  "nbformat": 4,
  "nbformat_minor": 0,
  "metadata": {
    "colab": {
      "name": "유가 데이터 분석.ipynb",
      "provenance": [],
      "collapsed_sections": [],
      "authorship_tag": "ABX9TyNVEkXivlQ2PDH2q0amcXV7",
      "include_colab_link": true
    },
    "kernelspec": {
      "name": "python3",
      "display_name": "Python 3"
    },
    "language_info": {
      "name": "python"
    }
  },
  "cells": [
    {
      "cell_type": "markdown",
      "metadata": {
        "id": "view-in-github",
        "colab_type": "text"
      },
      "source": [
        "<a href=\"https://colab.research.google.com/github/Raziel-JKM/Kaggle/blob/main/%EC%9C%A0%EA%B0%80%20%EB%8D%B0%EC%9D%B4%ED%84%B0%20%ED%99%9C%EC%9A%A9%20%EC%A3%BC%EC%9C%A0%EC%86%8C%20%EB%B6%84%EC%84%9D/%EC%9C%A0%EA%B0%80_%EB%8D%B0%EC%9D%B4%ED%84%B0_%EB%B6%84%EC%84%9D.ipynb\" target=\"_parent\"><img src=\"https://colab.research.google.com/assets/colab-badge.svg\" alt=\"Open In Colab\"/></a>"
      ]
    },
    {
      "cell_type": "code",
      "metadata": {
        "id": "cPqkrHSNtx0-"
      },
      "source": [
        "#18년 데이터 기준 데이터 점검 및 Cleansing\n",
        "import numpy as np \n",
        "import pandas as pd \n",
        "import seaborn as sns\n",
        "sns.set_style('darkgrid')\n",
        "import matplotlib.pyplot as plt\n",
        "import matplotlib.font_manager as fm\n",
        "\n",
        "font_dirs = ['/usr/share/fonts/truetype/nanum', ]\n",
        "font_files = fm.findSystemFonts(fontpaths=font_dirs)\n",
        "for font_file in font_files:\n",
        "    fm.fontManager.addfont(font_file)\n",
        "\n",
        "plt.rcParams['font.family'] = 'NanumBarunGothic'\n",
        "plt.rcParams['axes.unicode_minus']=False"
      ],
      "execution_count": 53,
      "outputs": []
    },
    {
      "cell_type": "code",
      "metadata": {
        "id": "NHfReLfcuMRP"
      },
      "source": [
        "f18 = pd.read_csv(f'/content/과거_판매가격(주유소)_2018.csv')"
      ],
      "execution_count": 54,
      "outputs": []
    },
    {
      "cell_type": "code",
      "metadata": {
        "colab": {
          "base_uri": "https://localhost:8080/",
          "height": 204
        },
        "id": "BKr8G0HuuUcJ",
        "outputId": "bbf93c1d-0823-4207-8181-7ee3487303fb"
      },
      "source": [
        "f18.head()"
      ],
      "execution_count": 55,
      "outputs": [
        {
          "output_type": "execute_result",
          "data": {
            "text/html": [
              "<div>\n",
              "<style scoped>\n",
              "    .dataframe tbody tr th:only-of-type {\n",
              "        vertical-align: middle;\n",
              "    }\n",
              "\n",
              "    .dataframe tbody tr th {\n",
              "        vertical-align: top;\n",
              "    }\n",
              "\n",
              "    .dataframe thead th {\n",
              "        text-align: right;\n",
              "    }\n",
              "</style>\n",
              "<table border=\"1\" class=\"dataframe\">\n",
              "  <thead>\n",
              "    <tr style=\"text-align: right;\">\n",
              "      <th></th>\n",
              "      <th>번호</th>\n",
              "      <th>기간</th>\n",
              "      <th>지역</th>\n",
              "      <th>상표</th>\n",
              "      <th>셀프여부</th>\n",
              "      <th>휘발유</th>\n",
              "    </tr>\n",
              "  </thead>\n",
              "  <tbody>\n",
              "    <tr>\n",
              "      <th>0</th>\n",
              "      <td>기준 : 일간(20180601~20180607)</td>\n",
              "      <td>NaN</td>\n",
              "      <td>NaN</td>\n",
              "      <td>NaN</td>\n",
              "      <td>NaN</td>\n",
              "      <td>NaN</td>\n",
              "    </tr>\n",
              "    <tr>\n",
              "      <th>1</th>\n",
              "      <td>A0011536</td>\n",
              "      <td>20180601.0</td>\n",
              "      <td>강원 강릉시</td>\n",
              "      <td>SK에너지</td>\n",
              "      <td>셀프</td>\n",
              "      <td>1579.0</td>\n",
              "    </tr>\n",
              "    <tr>\n",
              "      <th>2</th>\n",
              "      <td>A0011536</td>\n",
              "      <td>20180602.0</td>\n",
              "      <td>강원 강릉시</td>\n",
              "      <td>SK에너지</td>\n",
              "      <td>셀프</td>\n",
              "      <td>1579.0</td>\n",
              "    </tr>\n",
              "    <tr>\n",
              "      <th>3</th>\n",
              "      <td>A0011536</td>\n",
              "      <td>20180603.0</td>\n",
              "      <td>강원 강릉시</td>\n",
              "      <td>SK에너지</td>\n",
              "      <td>셀프</td>\n",
              "      <td>1579.0</td>\n",
              "    </tr>\n",
              "    <tr>\n",
              "      <th>4</th>\n",
              "      <td>A0011536</td>\n",
              "      <td>20180604.0</td>\n",
              "      <td>강원 강릉시</td>\n",
              "      <td>SK에너지</td>\n",
              "      <td>셀프</td>\n",
              "      <td>1579.0</td>\n",
              "    </tr>\n",
              "  </tbody>\n",
              "</table>\n",
              "</div>"
            ],
            "text/plain": [
              "                           번호          기간      지역     상표 셀프여부     휘발유\n",
              "0  기준 : 일간(20180601~20180607)         NaN     NaN    NaN  NaN     NaN\n",
              "1                    A0011536  20180601.0  강원 강릉시  SK에너지   셀프  1579.0\n",
              "2                    A0011536  20180602.0  강원 강릉시  SK에너지   셀프  1579.0\n",
              "3                    A0011536  20180603.0  강원 강릉시  SK에너지   셀프  1579.0\n",
              "4                    A0011536  20180604.0  강원 강릉시  SK에너지   셀프  1579.0"
            ]
          },
          "metadata": {},
          "execution_count": 55
        }
      ]
    },
    {
      "cell_type": "code",
      "metadata": {
        "id": "bLO-0OuzuX5D"
      },
      "source": [
        "# 0번 row 제거\n",
        "f18 = f18.drop(0) "
      ],
      "execution_count": 56,
      "outputs": []
    },
    {
      "cell_type": "code",
      "metadata": {
        "colab": {
          "base_uri": "https://localhost:8080/"
        },
        "id": "tG-UxCnIubga",
        "outputId": "f7c2e94a-b5d3-43b1-8d7b-78f0aa7802fb"
      },
      "source": [
        "# null값 확인\n",
        "f18.isna().sum() "
      ],
      "execution_count": 57,
      "outputs": [
        {
          "output_type": "execute_result",
          "data": {
            "text/plain": [
              "번호      0\n",
              "기간      0\n",
              "지역      0\n",
              "상표      0\n",
              "셀프여부    0\n",
              "휘발유     0\n",
              "dtype: int64"
            ]
          },
          "metadata": {},
          "execution_count": 57
        }
      ]
    },
    {
      "cell_type": "code",
      "metadata": {
        "colab": {
          "base_uri": "https://localhost:8080/",
          "height": 390
        },
        "id": "N6ZO_VAluh6X",
        "outputId": "8193cfd2-d10a-43a4-8624-b1c4f3a702bc"
      },
      "source": [
        "# include='all': 카테고리형 변수도 정보 제공\n",
        "f18.describe(include='all') "
      ],
      "execution_count": 58,
      "outputs": [
        {
          "output_type": "execute_result",
          "data": {
            "text/html": [
              "<div>\n",
              "<style scoped>\n",
              "    .dataframe tbody tr th:only-of-type {\n",
              "        vertical-align: middle;\n",
              "    }\n",
              "\n",
              "    .dataframe tbody tr th {\n",
              "        vertical-align: top;\n",
              "    }\n",
              "\n",
              "    .dataframe thead th {\n",
              "        text-align: right;\n",
              "    }\n",
              "</style>\n",
              "<table border=\"1\" class=\"dataframe\">\n",
              "  <thead>\n",
              "    <tr style=\"text-align: right;\">\n",
              "      <th></th>\n",
              "      <th>번호</th>\n",
              "      <th>기간</th>\n",
              "      <th>지역</th>\n",
              "      <th>상표</th>\n",
              "      <th>셀프여부</th>\n",
              "      <th>휘발유</th>\n",
              "    </tr>\n",
              "  </thead>\n",
              "  <tbody>\n",
              "    <tr>\n",
              "      <th>count</th>\n",
              "      <td>81466</td>\n",
              "      <td>8.146600e+04</td>\n",
              "      <td>81466</td>\n",
              "      <td>81466</td>\n",
              "      <td>81466</td>\n",
              "      <td>81466.000000</td>\n",
              "    </tr>\n",
              "    <tr>\n",
              "      <th>unique</th>\n",
              "      <td>11673</td>\n",
              "      <td>NaN</td>\n",
              "      <td>229</td>\n",
              "      <td>9</td>\n",
              "      <td>2</td>\n",
              "      <td>NaN</td>\n",
              "    </tr>\n",
              "    <tr>\n",
              "      <th>top</th>\n",
              "      <td>A0018499</td>\n",
              "      <td>NaN</td>\n",
              "      <td>충북 청주시</td>\n",
              "      <td>SK에너지</td>\n",
              "      <td>일반</td>\n",
              "      <td>NaN</td>\n",
              "    </tr>\n",
              "    <tr>\n",
              "      <th>freq</th>\n",
              "      <td>7</td>\n",
              "      <td>NaN</td>\n",
              "      <td>1574</td>\n",
              "      <td>24531</td>\n",
              "      <td>49850</td>\n",
              "      <td>NaN</td>\n",
              "    </tr>\n",
              "    <tr>\n",
              "      <th>mean</th>\n",
              "      <td>NaN</td>\n",
              "      <td>2.018060e+07</td>\n",
              "      <td>NaN</td>\n",
              "      <td>NaN</td>\n",
              "      <td>NaN</td>\n",
              "      <td>1603.579714</td>\n",
              "    </tr>\n",
              "    <tr>\n",
              "      <th>std</th>\n",
              "      <td>NaN</td>\n",
              "      <td>2.000113e+00</td>\n",
              "      <td>NaN</td>\n",
              "      <td>NaN</td>\n",
              "      <td>NaN</td>\n",
              "      <td>112.806463</td>\n",
              "    </tr>\n",
              "    <tr>\n",
              "      <th>min</th>\n",
              "      <td>NaN</td>\n",
              "      <td>2.018060e+07</td>\n",
              "      <td>NaN</td>\n",
              "      <td>NaN</td>\n",
              "      <td>NaN</td>\n",
              "      <td>0.000000</td>\n",
              "    </tr>\n",
              "    <tr>\n",
              "      <th>25%</th>\n",
              "      <td>NaN</td>\n",
              "      <td>2.018060e+07</td>\n",
              "      <td>NaN</td>\n",
              "      <td>NaN</td>\n",
              "      <td>NaN</td>\n",
              "      <td>1579.000000</td>\n",
              "    </tr>\n",
              "    <tr>\n",
              "      <th>50%</th>\n",
              "      <td>NaN</td>\n",
              "      <td>2.018060e+07</td>\n",
              "      <td>NaN</td>\n",
              "      <td>NaN</td>\n",
              "      <td>NaN</td>\n",
              "      <td>1598.000000</td>\n",
              "    </tr>\n",
              "    <tr>\n",
              "      <th>75%</th>\n",
              "      <td>NaN</td>\n",
              "      <td>2.018061e+07</td>\n",
              "      <td>NaN</td>\n",
              "      <td>NaN</td>\n",
              "      <td>NaN</td>\n",
              "      <td>1625.000000</td>\n",
              "    </tr>\n",
              "    <tr>\n",
              "      <th>max</th>\n",
              "      <td>NaN</td>\n",
              "      <td>2.018061e+07</td>\n",
              "      <td>NaN</td>\n",
              "      <td>NaN</td>\n",
              "      <td>NaN</td>\n",
              "      <td>2282.000000</td>\n",
              "    </tr>\n",
              "  </tbody>\n",
              "</table>\n",
              "</div>"
            ],
            "text/plain": [
              "              번호            기간      지역     상표   셀프여부           휘발유\n",
              "count      81466  8.146600e+04   81466  81466  81466  81466.000000\n",
              "unique     11673           NaN     229      9      2           NaN\n",
              "top     A0018499           NaN  충북 청주시  SK에너지     일반           NaN\n",
              "freq           7           NaN    1574  24531  49850           NaN\n",
              "mean         NaN  2.018060e+07     NaN    NaN    NaN   1603.579714\n",
              "std          NaN  2.000113e+00     NaN    NaN    NaN    112.806463\n",
              "min          NaN  2.018060e+07     NaN    NaN    NaN      0.000000\n",
              "25%          NaN  2.018060e+07     NaN    NaN    NaN   1579.000000\n",
              "50%          NaN  2.018060e+07     NaN    NaN    NaN   1598.000000\n",
              "75%          NaN  2.018061e+07     NaN    NaN    NaN   1625.000000\n",
              "max          NaN  2.018061e+07     NaN    NaN    NaN   2282.000000"
            ]
          },
          "metadata": {},
          "execution_count": 58
        }
      ]
    },
    {
      "cell_type": "markdown",
      "metadata": {
        "id": "HXRuFTxduv5j"
      },
      "source": [
        "* unique 번호가 11673개이며 최대 7번까지 기록되었음\n",
        "* 기간이 수치로 인식되고 있음\n",
        "* unique 지역 개수가 229이어서 너무 많음\n",
        "* unique 상표 개수가 9개이므로 적절함\n",
        "* unique 셀프여부 개수가 2개이며, 셀프여부는 각각 절반정도 비중을 차지함\n",
        "* 휘발유 min이 0임\n"
      ]
    },
    {
      "cell_type": "code",
      "metadata": {
        "id": "PzglBEVAu_p_"
      },
      "source": [
        "# 기간을 datetime 형태로 변환\n",
        "f18['기간'] = f18['기간'].apply(lambda x:pd.to_datetime(str(int(x)))) "
      ],
      "execution_count": 59,
      "outputs": []
    },
    {
      "cell_type": "code",
      "metadata": {
        "colab": {
          "base_uri": "https://localhost:8080/"
        },
        "id": "xJr2iY9svJN6",
        "outputId": "df143b74-6ef9-4fe5-aeab-c004202d4e3c"
      },
      "source": [
        "# 지역 변수 중 첫 지역 구분만 컬럼 형성\n",
        "region_len = f18['지역'].apply(lambda x: len(x.split())) \n",
        "print(f\"min: {min(region_len)},max: {max(region_len)}\")"
      ],
      "execution_count": 60,
      "outputs": [
        {
          "output_type": "stream",
          "text": [
            "min: 1,max: 2\n"
          ],
          "name": "stdout"
        }
      ]
    },
    {
      "cell_type": "code",
      "metadata": {
        "colab": {
          "base_uri": "https://localhost:8080/"
        },
        "id": "V7PP7FuovMGj",
        "outputId": "ef9d3728-de57-4eaa-afb8-3efa0d0729d8"
      },
      "source": [
        "f18['지역2'] = f18['지역'].apply(lambda x:x.split()[0])\n",
        "import collections\n",
        "collections.Counter(f18['지역2'])"
      ],
      "execution_count": 61,
      "outputs": [
        {
          "output_type": "execute_result",
          "data": {
            "text/plain": [
              "Counter({'강원': 4691,\n",
              "         '경기': 16341,\n",
              "         '경남': 8049,\n",
              "         '경북': 8918,\n",
              "         '광주': 1984,\n",
              "         '대구': 2555,\n",
              "         '대전': 1721,\n",
              "         '부산': 2936,\n",
              "         '서울': 3589,\n",
              "         '세종시': 448,\n",
              "         '울산': 1706,\n",
              "         '인천': 2345,\n",
              "         '전남': 6260,\n",
              "         '전북': 6278,\n",
              "         '제주': 1351,\n",
              "         '충남': 7158,\n",
              "         '충북': 5136})"
            ]
          },
          "metadata": {},
          "execution_count": 61
        }
      ]
    },
    {
      "cell_type": "code",
      "metadata": {
        "colab": {
          "base_uri": "https://localhost:8080/",
          "height": 359
        },
        "id": "aEkSVVhbvOc2",
        "outputId": "da077ad1-e259-47fc-8220-b875f789e35f"
      },
      "source": [
        "# 휘발유값 0인 ROW 확인\n",
        "f18.loc[f18['휘발유']==0].head(10) "
      ],
      "execution_count": 62,
      "outputs": [
        {
          "output_type": "execute_result",
          "data": {
            "text/html": [
              "<div>\n",
              "<style scoped>\n",
              "    .dataframe tbody tr th:only-of-type {\n",
              "        vertical-align: middle;\n",
              "    }\n",
              "\n",
              "    .dataframe tbody tr th {\n",
              "        vertical-align: top;\n",
              "    }\n",
              "\n",
              "    .dataframe thead th {\n",
              "        text-align: right;\n",
              "    }\n",
              "</style>\n",
              "<table border=\"1\" class=\"dataframe\">\n",
              "  <thead>\n",
              "    <tr style=\"text-align: right;\">\n",
              "      <th></th>\n",
              "      <th>번호</th>\n",
              "      <th>기간</th>\n",
              "      <th>지역</th>\n",
              "      <th>상표</th>\n",
              "      <th>셀프여부</th>\n",
              "      <th>휘발유</th>\n",
              "      <th>지역2</th>\n",
              "    </tr>\n",
              "  </thead>\n",
              "  <tbody>\n",
              "    <tr>\n",
              "      <th>1019</th>\n",
              "      <td>A0010629</td>\n",
              "      <td>2018-06-07</td>\n",
              "      <td>강원 삼척시</td>\n",
              "      <td>현대오일뱅크</td>\n",
              "      <td>일반</td>\n",
              "      <td>0.0</td>\n",
              "      <td>강원</td>\n",
              "    </tr>\n",
              "    <tr>\n",
              "      <th>1159</th>\n",
              "      <td>A0010700</td>\n",
              "      <td>2018-06-07</td>\n",
              "      <td>강원 삼척시</td>\n",
              "      <td>현대오일뱅크</td>\n",
              "      <td>셀프</td>\n",
              "      <td>0.0</td>\n",
              "      <td>강원</td>\n",
              "    </tr>\n",
              "    <tr>\n",
              "      <th>1370</th>\n",
              "      <td>A0010458</td>\n",
              "      <td>2018-06-01</td>\n",
              "      <td>강원 양구군</td>\n",
              "      <td>SK에너지</td>\n",
              "      <td>일반</td>\n",
              "      <td>0.0</td>\n",
              "      <td>강원</td>\n",
              "    </tr>\n",
              "    <tr>\n",
              "      <th>1371</th>\n",
              "      <td>A0010458</td>\n",
              "      <td>2018-06-02</td>\n",
              "      <td>강원 양구군</td>\n",
              "      <td>SK에너지</td>\n",
              "      <td>일반</td>\n",
              "      <td>0.0</td>\n",
              "      <td>강원</td>\n",
              "    </tr>\n",
              "    <tr>\n",
              "      <th>1372</th>\n",
              "      <td>A0010458</td>\n",
              "      <td>2018-06-03</td>\n",
              "      <td>강원 양구군</td>\n",
              "      <td>SK에너지</td>\n",
              "      <td>일반</td>\n",
              "      <td>0.0</td>\n",
              "      <td>강원</td>\n",
              "    </tr>\n",
              "    <tr>\n",
              "      <th>1373</th>\n",
              "      <td>A0010458</td>\n",
              "      <td>2018-06-04</td>\n",
              "      <td>강원 양구군</td>\n",
              "      <td>SK에너지</td>\n",
              "      <td>일반</td>\n",
              "      <td>0.0</td>\n",
              "      <td>강원</td>\n",
              "    </tr>\n",
              "    <tr>\n",
              "      <th>1374</th>\n",
              "      <td>A0010458</td>\n",
              "      <td>2018-06-05</td>\n",
              "      <td>강원 양구군</td>\n",
              "      <td>SK에너지</td>\n",
              "      <td>일반</td>\n",
              "      <td>0.0</td>\n",
              "      <td>강원</td>\n",
              "    </tr>\n",
              "    <tr>\n",
              "      <th>1375</th>\n",
              "      <td>A0010458</td>\n",
              "      <td>2018-06-06</td>\n",
              "      <td>강원 양구군</td>\n",
              "      <td>SK에너지</td>\n",
              "      <td>일반</td>\n",
              "      <td>0.0</td>\n",
              "      <td>강원</td>\n",
              "    </tr>\n",
              "    <tr>\n",
              "      <th>1376</th>\n",
              "      <td>A0010458</td>\n",
              "      <td>2018-06-07</td>\n",
              "      <td>강원 양구군</td>\n",
              "      <td>SK에너지</td>\n",
              "      <td>일반</td>\n",
              "      <td>0.0</td>\n",
              "      <td>강원</td>\n",
              "    </tr>\n",
              "    <tr>\n",
              "      <th>1575</th>\n",
              "      <td>A0011234</td>\n",
              "      <td>2018-06-03</td>\n",
              "      <td>강원 영월군</td>\n",
              "      <td>SK에너지</td>\n",
              "      <td>일반</td>\n",
              "      <td>0.0</td>\n",
              "      <td>강원</td>\n",
              "    </tr>\n",
              "  </tbody>\n",
              "</table>\n",
              "</div>"
            ],
            "text/plain": [
              "            번호         기간      지역      상표 셀프여부  휘발유 지역2\n",
              "1019  A0010629 2018-06-07  강원 삼척시  현대오일뱅크   일반  0.0  강원\n",
              "1159  A0010700 2018-06-07  강원 삼척시  현대오일뱅크   셀프  0.0  강원\n",
              "1370  A0010458 2018-06-01  강원 양구군   SK에너지   일반  0.0  강원\n",
              "1371  A0010458 2018-06-02  강원 양구군   SK에너지   일반  0.0  강원\n",
              "1372  A0010458 2018-06-03  강원 양구군   SK에너지   일반  0.0  강원\n",
              "1373  A0010458 2018-06-04  강원 양구군   SK에너지   일반  0.0  강원\n",
              "1374  A0010458 2018-06-05  강원 양구군   SK에너지   일반  0.0  강원\n",
              "1375  A0010458 2018-06-06  강원 양구군   SK에너지   일반  0.0  강원\n",
              "1376  A0010458 2018-06-07  강원 양구군   SK에너지   일반  0.0  강원\n",
              "1575  A0011234 2018-06-03  강원 영월군   SK에너지   일반  0.0  강원"
            ]
          },
          "metadata": {},
          "execution_count": 62
        }
      ]
    },
    {
      "cell_type": "code",
      "metadata": {
        "colab": {
          "base_uri": "https://localhost:8080/",
          "height": 266
        },
        "id": "4-lZtTE_vQ2r",
        "outputId": "0868da37-50dd-4985-836b-0e670cddc474"
      },
      "source": [
        "f18.loc[f18['번호']=='A0010629']"
      ],
      "execution_count": 63,
      "outputs": [
        {
          "output_type": "execute_result",
          "data": {
            "text/html": [
              "<div>\n",
              "<style scoped>\n",
              "    .dataframe tbody tr th:only-of-type {\n",
              "        vertical-align: middle;\n",
              "    }\n",
              "\n",
              "    .dataframe tbody tr th {\n",
              "        vertical-align: top;\n",
              "    }\n",
              "\n",
              "    .dataframe thead th {\n",
              "        text-align: right;\n",
              "    }\n",
              "</style>\n",
              "<table border=\"1\" class=\"dataframe\">\n",
              "  <thead>\n",
              "    <tr style=\"text-align: right;\">\n",
              "      <th></th>\n",
              "      <th>번호</th>\n",
              "      <th>기간</th>\n",
              "      <th>지역</th>\n",
              "      <th>상표</th>\n",
              "      <th>셀프여부</th>\n",
              "      <th>휘발유</th>\n",
              "      <th>지역2</th>\n",
              "    </tr>\n",
              "  </thead>\n",
              "  <tbody>\n",
              "    <tr>\n",
              "      <th>1013</th>\n",
              "      <td>A0010629</td>\n",
              "      <td>2018-06-01</td>\n",
              "      <td>강원 삼척시</td>\n",
              "      <td>현대오일뱅크</td>\n",
              "      <td>일반</td>\n",
              "      <td>1595.0</td>\n",
              "      <td>강원</td>\n",
              "    </tr>\n",
              "    <tr>\n",
              "      <th>1014</th>\n",
              "      <td>A0010629</td>\n",
              "      <td>2018-06-02</td>\n",
              "      <td>강원 삼척시</td>\n",
              "      <td>현대오일뱅크</td>\n",
              "      <td>일반</td>\n",
              "      <td>1595.0</td>\n",
              "      <td>강원</td>\n",
              "    </tr>\n",
              "    <tr>\n",
              "      <th>1015</th>\n",
              "      <td>A0010629</td>\n",
              "      <td>2018-06-03</td>\n",
              "      <td>강원 삼척시</td>\n",
              "      <td>현대오일뱅크</td>\n",
              "      <td>일반</td>\n",
              "      <td>1595.0</td>\n",
              "      <td>강원</td>\n",
              "    </tr>\n",
              "    <tr>\n",
              "      <th>1016</th>\n",
              "      <td>A0010629</td>\n",
              "      <td>2018-06-04</td>\n",
              "      <td>강원 삼척시</td>\n",
              "      <td>현대오일뱅크</td>\n",
              "      <td>일반</td>\n",
              "      <td>1595.0</td>\n",
              "      <td>강원</td>\n",
              "    </tr>\n",
              "    <tr>\n",
              "      <th>1017</th>\n",
              "      <td>A0010629</td>\n",
              "      <td>2018-06-05</td>\n",
              "      <td>강원 삼척시</td>\n",
              "      <td>현대오일뱅크</td>\n",
              "      <td>일반</td>\n",
              "      <td>1595.0</td>\n",
              "      <td>강원</td>\n",
              "    </tr>\n",
              "    <tr>\n",
              "      <th>1018</th>\n",
              "      <td>A0010629</td>\n",
              "      <td>2018-06-06</td>\n",
              "      <td>강원 삼척시</td>\n",
              "      <td>현대오일뱅크</td>\n",
              "      <td>일반</td>\n",
              "      <td>1595.0</td>\n",
              "      <td>강원</td>\n",
              "    </tr>\n",
              "    <tr>\n",
              "      <th>1019</th>\n",
              "      <td>A0010629</td>\n",
              "      <td>2018-06-07</td>\n",
              "      <td>강원 삼척시</td>\n",
              "      <td>현대오일뱅크</td>\n",
              "      <td>일반</td>\n",
              "      <td>0.0</td>\n",
              "      <td>강원</td>\n",
              "    </tr>\n",
              "  </tbody>\n",
              "</table>\n",
              "</div>"
            ],
            "text/plain": [
              "            번호         기간      지역      상표 셀프여부     휘발유 지역2\n",
              "1013  A0010629 2018-06-01  강원 삼척시  현대오일뱅크   일반  1595.0  강원\n",
              "1014  A0010629 2018-06-02  강원 삼척시  현대오일뱅크   일반  1595.0  강원\n",
              "1015  A0010629 2018-06-03  강원 삼척시  현대오일뱅크   일반  1595.0  강원\n",
              "1016  A0010629 2018-06-04  강원 삼척시  현대오일뱅크   일반  1595.0  강원\n",
              "1017  A0010629 2018-06-05  강원 삼척시  현대오일뱅크   일반  1595.0  강원\n",
              "1018  A0010629 2018-06-06  강원 삼척시  현대오일뱅크   일반  1595.0  강원\n",
              "1019  A0010629 2018-06-07  강원 삼척시  현대오일뱅크   일반     0.0  강원"
            ]
          },
          "metadata": {},
          "execution_count": 63
        }
      ]
    },
    {
      "cell_type": "code",
      "metadata": {
        "id": "ADYOHJxivRNr"
      },
      "source": [
        "# 휘발유값 0인 ROW 제거\n",
        "f18 = f18.loc[f18['휘발유']!=0,:] #describe로 휘발유 min값 0아님을 확인"
      ],
      "execution_count": 64,
      "outputs": []
    },
    {
      "cell_type": "code",
      "metadata": {
        "colab": {
          "base_uri": "https://localhost:8080/",
          "height": 390
        },
        "id": "ViE9s-csvhBy",
        "outputId": "43672a4f-a284-4407-f1f4-e13575f46055"
      },
      "source": [
        "f18.describe(include='all',datetime_is_numeric=True)"
      ],
      "execution_count": 65,
      "outputs": [
        {
          "output_type": "execute_result",
          "data": {
            "text/html": [
              "<div>\n",
              "<style scoped>\n",
              "    .dataframe tbody tr th:only-of-type {\n",
              "        vertical-align: middle;\n",
              "    }\n",
              "\n",
              "    .dataframe tbody tr th {\n",
              "        vertical-align: top;\n",
              "    }\n",
              "\n",
              "    .dataframe thead th {\n",
              "        text-align: right;\n",
              "    }\n",
              "</style>\n",
              "<table border=\"1\" class=\"dataframe\">\n",
              "  <thead>\n",
              "    <tr style=\"text-align: right;\">\n",
              "      <th></th>\n",
              "      <th>번호</th>\n",
              "      <th>기간</th>\n",
              "      <th>지역</th>\n",
              "      <th>상표</th>\n",
              "      <th>셀프여부</th>\n",
              "      <th>휘발유</th>\n",
              "      <th>지역2</th>\n",
              "    </tr>\n",
              "  </thead>\n",
              "  <tbody>\n",
              "    <tr>\n",
              "      <th>count</th>\n",
              "      <td>81167</td>\n",
              "      <td>81167</td>\n",
              "      <td>81167</td>\n",
              "      <td>81167</td>\n",
              "      <td>81167</td>\n",
              "      <td>81167.000000</td>\n",
              "      <td>81167</td>\n",
              "    </tr>\n",
              "    <tr>\n",
              "      <th>unique</th>\n",
              "      <td>11641</td>\n",
              "      <td>NaN</td>\n",
              "      <td>229</td>\n",
              "      <td>9</td>\n",
              "      <td>2</td>\n",
              "      <td>NaN</td>\n",
              "      <td>17</td>\n",
              "    </tr>\n",
              "    <tr>\n",
              "      <th>top</th>\n",
              "      <td>A0018499</td>\n",
              "      <td>NaN</td>\n",
              "      <td>충북 청주시</td>\n",
              "      <td>SK에너지</td>\n",
              "      <td>일반</td>\n",
              "      <td>NaN</td>\n",
              "      <td>경기</td>\n",
              "    </tr>\n",
              "    <tr>\n",
              "      <th>freq</th>\n",
              "      <td>7</td>\n",
              "      <td>NaN</td>\n",
              "      <td>1567</td>\n",
              "      <td>24444</td>\n",
              "      <td>49590</td>\n",
              "      <td>NaN</td>\n",
              "      <td>16306</td>\n",
              "    </tr>\n",
              "    <tr>\n",
              "      <th>mean</th>\n",
              "      <td>NaN</td>\n",
              "      <td>2018-06-03 23:57:25.651047168</td>\n",
              "      <td>NaN</td>\n",
              "      <td>NaN</td>\n",
              "      <td>NaN</td>\n",
              "      <td>1609.486922</td>\n",
              "      <td>NaN</td>\n",
              "    </tr>\n",
              "    <tr>\n",
              "      <th>min</th>\n",
              "      <td>NaN</td>\n",
              "      <td>2018-06-01 00:00:00</td>\n",
              "      <td>NaN</td>\n",
              "      <td>NaN</td>\n",
              "      <td>NaN</td>\n",
              "      <td>1500.000000</td>\n",
              "      <td>NaN</td>\n",
              "    </tr>\n",
              "    <tr>\n",
              "      <th>25%</th>\n",
              "      <td>NaN</td>\n",
              "      <td>2018-06-02 00:00:00</td>\n",
              "      <td>NaN</td>\n",
              "      <td>NaN</td>\n",
              "      <td>NaN</td>\n",
              "      <td>1579.000000</td>\n",
              "      <td>NaN</td>\n",
              "    </tr>\n",
              "    <tr>\n",
              "      <th>50%</th>\n",
              "      <td>NaN</td>\n",
              "      <td>2018-06-04 00:00:00</td>\n",
              "      <td>NaN</td>\n",
              "      <td>NaN</td>\n",
              "      <td>NaN</td>\n",
              "      <td>1598.000000</td>\n",
              "      <td>NaN</td>\n",
              "    </tr>\n",
              "    <tr>\n",
              "      <th>75%</th>\n",
              "      <td>NaN</td>\n",
              "      <td>2018-06-06 00:00:00</td>\n",
              "      <td>NaN</td>\n",
              "      <td>NaN</td>\n",
              "      <td>NaN</td>\n",
              "      <td>1625.000000</td>\n",
              "      <td>NaN</td>\n",
              "    </tr>\n",
              "    <tr>\n",
              "      <th>max</th>\n",
              "      <td>NaN</td>\n",
              "      <td>2018-06-07 00:00:00</td>\n",
              "      <td>NaN</td>\n",
              "      <td>NaN</td>\n",
              "      <td>NaN</td>\n",
              "      <td>2282.000000</td>\n",
              "      <td>NaN</td>\n",
              "    </tr>\n",
              "    <tr>\n",
              "      <th>std</th>\n",
              "      <td>NaN</td>\n",
              "      <td>NaN</td>\n",
              "      <td>NaN</td>\n",
              "      <td>NaN</td>\n",
              "      <td>NaN</td>\n",
              "      <td>57.135670</td>\n",
              "      <td>NaN</td>\n",
              "    </tr>\n",
              "  </tbody>\n",
              "</table>\n",
              "</div>"
            ],
            "text/plain": [
              "              번호                             기간  ...           휘발유    지역2\n",
              "count      81167                          81167  ...  81167.000000  81167\n",
              "unique     11641                            NaN  ...           NaN     17\n",
              "top     A0018499                            NaN  ...           NaN     경기\n",
              "freq           7                            NaN  ...           NaN  16306\n",
              "mean         NaN  2018-06-03 23:57:25.651047168  ...   1609.486922    NaN\n",
              "min          NaN            2018-06-01 00:00:00  ...   1500.000000    NaN\n",
              "25%          NaN            2018-06-02 00:00:00  ...   1579.000000    NaN\n",
              "50%          NaN            2018-06-04 00:00:00  ...   1598.000000    NaN\n",
              "75%          NaN            2018-06-06 00:00:00  ...   1625.000000    NaN\n",
              "max          NaN            2018-06-07 00:00:00  ...   2282.000000    NaN\n",
              "std          NaN                            NaN  ...     57.135670    NaN\n",
              "\n",
              "[11 rows x 7 columns]"
            ]
          },
          "metadata": {},
          "execution_count": 65
        }
      ]
    },
    {
      "cell_type": "code",
      "metadata": {
        "colab": {
          "base_uri": "https://localhost:8080/",
          "height": 235
        },
        "id": "Sv2hJb1_vhXU",
        "outputId": "56d75218-5262-4407-f884-41b5f41f1d5e"
      },
      "source": [
        "#주유소별 데이터 정합성 확인(7일동안 변화 없었다는 전제)\n",
        "unique_count = f18.groupby('번호')[['지역','상표','셀프여부']].nunique()\n",
        "unique_count.head()"
      ],
      "execution_count": 66,
      "outputs": [
        {
          "output_type": "execute_result",
          "data": {
            "text/html": [
              "<div>\n",
              "<style scoped>\n",
              "    .dataframe tbody tr th:only-of-type {\n",
              "        vertical-align: middle;\n",
              "    }\n",
              "\n",
              "    .dataframe tbody tr th {\n",
              "        vertical-align: top;\n",
              "    }\n",
              "\n",
              "    .dataframe thead th {\n",
              "        text-align: right;\n",
              "    }\n",
              "</style>\n",
              "<table border=\"1\" class=\"dataframe\">\n",
              "  <thead>\n",
              "    <tr style=\"text-align: right;\">\n",
              "      <th></th>\n",
              "      <th>지역</th>\n",
              "      <th>상표</th>\n",
              "      <th>셀프여부</th>\n",
              "    </tr>\n",
              "    <tr>\n",
              "      <th>번호</th>\n",
              "      <th></th>\n",
              "      <th></th>\n",
              "      <th></th>\n",
              "    </tr>\n",
              "  </thead>\n",
              "  <tbody>\n",
              "    <tr>\n",
              "      <th>A0000004</th>\n",
              "      <td>1</td>\n",
              "      <td>1</td>\n",
              "      <td>1</td>\n",
              "    </tr>\n",
              "    <tr>\n",
              "      <th>A0000011</th>\n",
              "      <td>1</td>\n",
              "      <td>1</td>\n",
              "      <td>1</td>\n",
              "    </tr>\n",
              "    <tr>\n",
              "      <th>A0000012</th>\n",
              "      <td>1</td>\n",
              "      <td>1</td>\n",
              "      <td>1</td>\n",
              "    </tr>\n",
              "    <tr>\n",
              "      <th>A0000014</th>\n",
              "      <td>1</td>\n",
              "      <td>1</td>\n",
              "      <td>1</td>\n",
              "    </tr>\n",
              "    <tr>\n",
              "      <th>A0000015</th>\n",
              "      <td>1</td>\n",
              "      <td>1</td>\n",
              "      <td>1</td>\n",
              "    </tr>\n",
              "  </tbody>\n",
              "</table>\n",
              "</div>"
            ],
            "text/plain": [
              "          지역  상표  셀프여부\n",
              "번호                    \n",
              "A0000004   1   1     1\n",
              "A0000011   1   1     1\n",
              "A0000012   1   1     1\n",
              "A0000014   1   1     1\n",
              "A0000015   1   1     1"
            ]
          },
          "metadata": {},
          "execution_count": 66
        }
      ]
    },
    {
      "cell_type": "code",
      "metadata": {
        "colab": {
          "base_uri": "https://localhost:8080/",
          "height": 142
        },
        "id": "4y34om7gvxOy",
        "outputId": "d2f83fc9-3596-4fc8-a1dd-d55d957d1b31"
      },
      "source": [
        "target = unique_count.loc[(unique_count!=1).sum(axis=1)!=0]\n",
        "target"
      ],
      "execution_count": 67,
      "outputs": [
        {
          "output_type": "execute_result",
          "data": {
            "text/html": [
              "<div>\n",
              "<style scoped>\n",
              "    .dataframe tbody tr th:only-of-type {\n",
              "        vertical-align: middle;\n",
              "    }\n",
              "\n",
              "    .dataframe tbody tr th {\n",
              "        vertical-align: top;\n",
              "    }\n",
              "\n",
              "    .dataframe thead th {\n",
              "        text-align: right;\n",
              "    }\n",
              "</style>\n",
              "<table border=\"1\" class=\"dataframe\">\n",
              "  <thead>\n",
              "    <tr style=\"text-align: right;\">\n",
              "      <th></th>\n",
              "      <th>지역</th>\n",
              "      <th>상표</th>\n",
              "      <th>셀프여부</th>\n",
              "    </tr>\n",
              "    <tr>\n",
              "      <th>번호</th>\n",
              "      <th></th>\n",
              "      <th></th>\n",
              "      <th></th>\n",
              "    </tr>\n",
              "  </thead>\n",
              "  <tbody>\n",
              "    <tr>\n",
              "      <th>A0012639</th>\n",
              "      <td>1</td>\n",
              "      <td>2</td>\n",
              "      <td>1</td>\n",
              "    </tr>\n",
              "    <tr>\n",
              "      <th>A0016076</th>\n",
              "      <td>1</td>\n",
              "      <td>2</td>\n",
              "      <td>1</td>\n",
              "    </tr>\n",
              "  </tbody>\n",
              "</table>\n",
              "</div>"
            ],
            "text/plain": [
              "          지역  상표  셀프여부\n",
              "번호                    \n",
              "A0012639   1   2     1\n",
              "A0016076   1   2     1"
            ]
          },
          "metadata": {},
          "execution_count": 67
        }
      ]
    },
    {
      "cell_type": "code",
      "metadata": {
        "colab": {
          "base_uri": "https://localhost:8080/",
          "height": 359
        },
        "id": "M9993Opfv3fB",
        "outputId": "bd1a4a67-ebc1-4154-dcb8-95611c615784"
      },
      "source": [
        "f18.loc[f18['번호'].isin(target.index)]"
      ],
      "execution_count": 68,
      "outputs": [
        {
          "output_type": "execute_result",
          "data": {
            "text/html": [
              "<div>\n",
              "<style scoped>\n",
              "    .dataframe tbody tr th:only-of-type {\n",
              "        vertical-align: middle;\n",
              "    }\n",
              "\n",
              "    .dataframe tbody tr th {\n",
              "        vertical-align: top;\n",
              "    }\n",
              "\n",
              "    .dataframe thead th {\n",
              "        text-align: right;\n",
              "    }\n",
              "</style>\n",
              "<table border=\"1\" class=\"dataframe\">\n",
              "  <thead>\n",
              "    <tr style=\"text-align: right;\">\n",
              "      <th></th>\n",
              "      <th>번호</th>\n",
              "      <th>기간</th>\n",
              "      <th>지역</th>\n",
              "      <th>상표</th>\n",
              "      <th>셀프여부</th>\n",
              "      <th>휘발유</th>\n",
              "      <th>지역2</th>\n",
              "    </tr>\n",
              "  </thead>\n",
              "  <tbody>\n",
              "    <tr>\n",
              "      <th>73033</th>\n",
              "      <td>A0016076</td>\n",
              "      <td>2018-06-01</td>\n",
              "      <td>충남 아산시</td>\n",
              "      <td>현대오일뱅크</td>\n",
              "      <td>일반</td>\n",
              "      <td>1565.0</td>\n",
              "      <td>충남</td>\n",
              "    </tr>\n",
              "    <tr>\n",
              "      <th>73034</th>\n",
              "      <td>A0016076</td>\n",
              "      <td>2018-06-02</td>\n",
              "      <td>충남 아산시</td>\n",
              "      <td>현대오일뱅크</td>\n",
              "      <td>일반</td>\n",
              "      <td>1565.0</td>\n",
              "      <td>충남</td>\n",
              "    </tr>\n",
              "    <tr>\n",
              "      <th>73039</th>\n",
              "      <td>A0016076</td>\n",
              "      <td>2018-06-07</td>\n",
              "      <td>충남 아산시</td>\n",
              "      <td>자가상표</td>\n",
              "      <td>일반</td>\n",
              "      <td>1595.0</td>\n",
              "      <td>충남</td>\n",
              "    </tr>\n",
              "    <tr>\n",
              "      <th>77335</th>\n",
              "      <td>A0012639</td>\n",
              "      <td>2018-06-01</td>\n",
              "      <td>충북 옥천군</td>\n",
              "      <td>현대오일뱅크</td>\n",
              "      <td>일반</td>\n",
              "      <td>1619.0</td>\n",
              "      <td>충북</td>\n",
              "    </tr>\n",
              "    <tr>\n",
              "      <th>77336</th>\n",
              "      <td>A0012639</td>\n",
              "      <td>2018-06-02</td>\n",
              "      <td>충북 옥천군</td>\n",
              "      <td>현대오일뱅크</td>\n",
              "      <td>일반</td>\n",
              "      <td>1619.0</td>\n",
              "      <td>충북</td>\n",
              "    </tr>\n",
              "    <tr>\n",
              "      <th>77337</th>\n",
              "      <td>A0012639</td>\n",
              "      <td>2018-06-03</td>\n",
              "      <td>충북 옥천군</td>\n",
              "      <td>현대오일뱅크</td>\n",
              "      <td>일반</td>\n",
              "      <td>1619.0</td>\n",
              "      <td>충북</td>\n",
              "    </tr>\n",
              "    <tr>\n",
              "      <th>77338</th>\n",
              "      <td>A0012639</td>\n",
              "      <td>2018-06-04</td>\n",
              "      <td>충북 옥천군</td>\n",
              "      <td>현대오일뱅크</td>\n",
              "      <td>일반</td>\n",
              "      <td>1619.0</td>\n",
              "      <td>충북</td>\n",
              "    </tr>\n",
              "    <tr>\n",
              "      <th>77339</th>\n",
              "      <td>A0012639</td>\n",
              "      <td>2018-06-05</td>\n",
              "      <td>충북 옥천군</td>\n",
              "      <td>현대오일뱅크</td>\n",
              "      <td>일반</td>\n",
              "      <td>1619.0</td>\n",
              "      <td>충북</td>\n",
              "    </tr>\n",
              "    <tr>\n",
              "      <th>77340</th>\n",
              "      <td>A0012639</td>\n",
              "      <td>2018-06-06</td>\n",
              "      <td>충북 옥천군</td>\n",
              "      <td>현대오일뱅크</td>\n",
              "      <td>일반</td>\n",
              "      <td>1619.0</td>\n",
              "      <td>충북</td>\n",
              "    </tr>\n",
              "    <tr>\n",
              "      <th>77341</th>\n",
              "      <td>A0012639</td>\n",
              "      <td>2018-06-07</td>\n",
              "      <td>충북 옥천군</td>\n",
              "      <td>S-OIL</td>\n",
              "      <td>일반</td>\n",
              "      <td>1619.0</td>\n",
              "      <td>충북</td>\n",
              "    </tr>\n",
              "  </tbody>\n",
              "</table>\n",
              "</div>"
            ],
            "text/plain": [
              "             번호         기간      지역      상표 셀프여부     휘발유 지역2\n",
              "73033  A0016076 2018-06-01  충남 아산시  현대오일뱅크   일반  1565.0  충남\n",
              "73034  A0016076 2018-06-02  충남 아산시  현대오일뱅크   일반  1565.0  충남\n",
              "73039  A0016076 2018-06-07  충남 아산시    자가상표   일반  1595.0  충남\n",
              "77335  A0012639 2018-06-01  충북 옥천군  현대오일뱅크   일반  1619.0  충북\n",
              "77336  A0012639 2018-06-02  충북 옥천군  현대오일뱅크   일반  1619.0  충북\n",
              "77337  A0012639 2018-06-03  충북 옥천군  현대오일뱅크   일반  1619.0  충북\n",
              "77338  A0012639 2018-06-04  충북 옥천군  현대오일뱅크   일반  1619.0  충북\n",
              "77339  A0012639 2018-06-05  충북 옥천군  현대오일뱅크   일반  1619.0  충북\n",
              "77340  A0012639 2018-06-06  충북 옥천군  현대오일뱅크   일반  1619.0  충북\n",
              "77341  A0012639 2018-06-07  충북 옥천군   S-OIL   일반  1619.0  충북"
            ]
          },
          "metadata": {},
          "execution_count": 68
        }
      ]
    },
    {
      "cell_type": "code",
      "metadata": {
        "id": "ebatYVgMv6c2"
      },
      "source": [
        "f18 = f18.loc[~f18['번호'].isin(target.index)]"
      ],
      "execution_count": 69,
      "outputs": []
    },
    {
      "cell_type": "code",
      "metadata": {
        "id": "oFoIZUPLv8yM"
      },
      "source": [
        "# 주유소별 데이터 통합\n",
        "f18 = f18.groupby('번호')\\\n",
        "    .agg({'지역':'first','지역2':'first','상표':'first','셀프여부':'first','휘발유':'mean'})\\\n",
        "    .reset_index() "
      ],
      "execution_count": 70,
      "outputs": []
    },
    {
      "cell_type": "code",
      "metadata": {
        "colab": {
          "base_uri": "https://localhost:8080/",
          "height": 390
        },
        "id": "UJr5CKAZwBHL",
        "outputId": "cf8d824d-1dad-4be3-f4b9-4e6e505ec0a9"
      },
      "source": [
        "f18.describe(include='all')"
      ],
      "execution_count": 71,
      "outputs": [
        {
          "output_type": "execute_result",
          "data": {
            "text/html": [
              "<div>\n",
              "<style scoped>\n",
              "    .dataframe tbody tr th:only-of-type {\n",
              "        vertical-align: middle;\n",
              "    }\n",
              "\n",
              "    .dataframe tbody tr th {\n",
              "        vertical-align: top;\n",
              "    }\n",
              "\n",
              "    .dataframe thead th {\n",
              "        text-align: right;\n",
              "    }\n",
              "</style>\n",
              "<table border=\"1\" class=\"dataframe\">\n",
              "  <thead>\n",
              "    <tr style=\"text-align: right;\">\n",
              "      <th></th>\n",
              "      <th>번호</th>\n",
              "      <th>지역</th>\n",
              "      <th>지역2</th>\n",
              "      <th>상표</th>\n",
              "      <th>셀프여부</th>\n",
              "      <th>휘발유</th>\n",
              "    </tr>\n",
              "  </thead>\n",
              "  <tbody>\n",
              "    <tr>\n",
              "      <th>count</th>\n",
              "      <td>11639</td>\n",
              "      <td>11639</td>\n",
              "      <td>11639</td>\n",
              "      <td>11639</td>\n",
              "      <td>11639</td>\n",
              "      <td>11639.000000</td>\n",
              "    </tr>\n",
              "    <tr>\n",
              "      <th>unique</th>\n",
              "      <td>11639</td>\n",
              "      <td>229</td>\n",
              "      <td>17</td>\n",
              "      <td>9</td>\n",
              "      <td>2</td>\n",
              "      <td>NaN</td>\n",
              "    </tr>\n",
              "    <tr>\n",
              "      <th>top</th>\n",
              "      <td>A0018499</td>\n",
              "      <td>충북 청주시</td>\n",
              "      <td>경기</td>\n",
              "      <td>SK에너지</td>\n",
              "      <td>일반</td>\n",
              "      <td>NaN</td>\n",
              "    </tr>\n",
              "    <tr>\n",
              "      <th>freq</th>\n",
              "      <td>1</td>\n",
              "      <td>224</td>\n",
              "      <td>2343</td>\n",
              "      <td>3505</td>\n",
              "      <td>7106</td>\n",
              "      <td>NaN</td>\n",
              "    </tr>\n",
              "    <tr>\n",
              "      <th>mean</th>\n",
              "      <td>NaN</td>\n",
              "      <td>NaN</td>\n",
              "      <td>NaN</td>\n",
              "      <td>NaN</td>\n",
              "      <td>NaN</td>\n",
              "      <td>1609.491097</td>\n",
              "    </tr>\n",
              "    <tr>\n",
              "      <th>std</th>\n",
              "      <td>NaN</td>\n",
              "      <td>NaN</td>\n",
              "      <td>NaN</td>\n",
              "      <td>NaN</td>\n",
              "      <td>NaN</td>\n",
              "      <td>56.959482</td>\n",
              "    </tr>\n",
              "    <tr>\n",
              "      <th>min</th>\n",
              "      <td>NaN</td>\n",
              "      <td>NaN</td>\n",
              "      <td>NaN</td>\n",
              "      <td>NaN</td>\n",
              "      <td>NaN</td>\n",
              "      <td>1525.000000</td>\n",
              "    </tr>\n",
              "    <tr>\n",
              "      <th>25%</th>\n",
              "      <td>NaN</td>\n",
              "      <td>NaN</td>\n",
              "      <td>NaN</td>\n",
              "      <td>NaN</td>\n",
              "      <td>NaN</td>\n",
              "      <td>1579.000000</td>\n",
              "    </tr>\n",
              "    <tr>\n",
              "      <th>50%</th>\n",
              "      <td>NaN</td>\n",
              "      <td>NaN</td>\n",
              "      <td>NaN</td>\n",
              "      <td>NaN</td>\n",
              "      <td>NaN</td>\n",
              "      <td>1598.000000</td>\n",
              "    </tr>\n",
              "    <tr>\n",
              "      <th>75%</th>\n",
              "      <td>NaN</td>\n",
              "      <td>NaN</td>\n",
              "      <td>NaN</td>\n",
              "      <td>NaN</td>\n",
              "      <td>NaN</td>\n",
              "      <td>1625.000000</td>\n",
              "    </tr>\n",
              "    <tr>\n",
              "      <th>max</th>\n",
              "      <td>NaN</td>\n",
              "      <td>NaN</td>\n",
              "      <td>NaN</td>\n",
              "      <td>NaN</td>\n",
              "      <td>NaN</td>\n",
              "      <td>2281.428571</td>\n",
              "    </tr>\n",
              "  </tbody>\n",
              "</table>\n",
              "</div>"
            ],
            "text/plain": [
              "              번호      지역    지역2     상표   셀프여부           휘발유\n",
              "count      11639   11639  11639  11639  11639  11639.000000\n",
              "unique     11639     229     17      9      2           NaN\n",
              "top     A0018499  충북 청주시     경기  SK에너지     일반           NaN\n",
              "freq           1     224   2343   3505   7106           NaN\n",
              "mean         NaN     NaN    NaN    NaN    NaN   1609.491097\n",
              "std          NaN     NaN    NaN    NaN    NaN     56.959482\n",
              "min          NaN     NaN    NaN    NaN    NaN   1525.000000\n",
              "25%          NaN     NaN    NaN    NaN    NaN   1579.000000\n",
              "50%          NaN     NaN    NaN    NaN    NaN   1598.000000\n",
              "75%          NaN     NaN    NaN    NaN    NaN   1625.000000\n",
              "max          NaN     NaN    NaN    NaN    NaN   2281.428571"
            ]
          },
          "metadata": {},
          "execution_count": 71
        }
      ]
    },
    {
      "cell_type": "markdown",
      "metadata": {
        "id": "HDT9lVtxwFX-"
      },
      "source": [
        "# **Cleansing** 및 Fea**ture Engineering** 함수 생성 및 전체 년도 데이터 적용"
      ]
    },
    {
      "cell_type": "code",
      "metadata": {
        "id": "GNymZtB8wBW2"
      },
      "source": [
        "def preprocess(df):\n",
        "    df_copy=df.copy() # 필터링 전\n",
        "    \n",
        "    df = df.drop(0)\n",
        "    df['기간'] = df['기간'].apply(lambda x:pd.to_datetime(str(int(x))))\n",
        "    df['지역2'] = df['지역'].apply(lambda x:x.split()[0])\n",
        "    df = df.loc[df['휘발유']!=0,:]\n",
        "    unique_count = df.groupby('번호')[['번호','지역','상표','셀프여부']].nunique()\n",
        "    target = unique_count.loc[(unique_count!=1).sum(axis=1)!=0,:]\n",
        "    df = df.loc[~df['번호'].isin(target.index),:]\n",
        "    df = df.groupby('번호')\\\n",
        "        .agg({'지역':'first','지역2':'first','상표':'first','셀프여부':'first','휘발유':'mean'})\\\n",
        "        .reset_index()\n",
        "    \n",
        "    out = set(df_copy['번호']).difference(set(df['번호'])) # 필터링 후 \n",
        "    return(df,out)"
      ],
      "execution_count": 72,
      "outputs": []
    },
    {
      "cell_type": "code",
      "metadata": {
        "id": "sr3NPLWqwP39"
      },
      "source": [
        "f_dict = dict()\n",
        "out_all = set() # 이상치 발견한 주유소 번호 저장\n",
        "for year in range(2018,2022):\n",
        "    df = pd.read_csv(f'/content/과거_판매가격(주유소)_{year}.csv')\n",
        "    f_dict[year], out = preprocess(df)\n",
        "    out_all.update(out)"
      ],
      "execution_count": 73,
      "outputs": []
    },
    {
      "cell_type": "markdown",
      "metadata": {
        "id": "KwEJe-QiwnMW"
      },
      "source": [
        "연도별 데이터 Outer Join"
      ]
    },
    {
      "cell_type": "code",
      "metadata": {
        "colab": {
          "base_uri": "https://localhost:8080/"
        },
        "id": "iYWM5FOBwSUO",
        "outputId": "c205cc35-c2f4-4b8e-cc77-154a09f67a69"
      },
      "source": [
        "key = list(f_dict[2018].columns)\n",
        "key.remove('휘발유')\n",
        "print(key)"
      ],
      "execution_count": 74,
      "outputs": [
        {
          "output_type": "stream",
          "text": [
            "['번호', '지역', '지역2', '상표', '셀프여부']\n"
          ],
          "name": "stdout"
        }
      ]
    },
    {
      "cell_type": "code",
      "metadata": {
        "id": "3JY2HbSAwp31"
      },
      "source": [
        "m1 = pd.merge(f_dict[2018],f_dict[2019],on=key,how='outer',suffixes=('_2018', '_2019'))\n",
        "m2 = pd.merge(f_dict[2020],f_dict[2021],on=key,how='outer',suffixes=('_2020', '_2021'))\n",
        "m = pd.merge(m1,m2,on=key,how='outer')"
      ],
      "execution_count": 75,
      "outputs": []
    },
    {
      "cell_type": "code",
      "metadata": {
        "colab": {
          "base_uri": "https://localhost:8080/",
          "height": 204
        },
        "id": "QEgZUeAUwrjJ",
        "outputId": "1cd15e8c-6c03-44c1-fd6e-a7ade968c61a"
      },
      "source": [
        "m.head()"
      ],
      "execution_count": 76,
      "outputs": [
        {
          "output_type": "execute_result",
          "data": {
            "text/html": [
              "<div>\n",
              "<style scoped>\n",
              "    .dataframe tbody tr th:only-of-type {\n",
              "        vertical-align: middle;\n",
              "    }\n",
              "\n",
              "    .dataframe tbody tr th {\n",
              "        vertical-align: top;\n",
              "    }\n",
              "\n",
              "    .dataframe thead th {\n",
              "        text-align: right;\n",
              "    }\n",
              "</style>\n",
              "<table border=\"1\" class=\"dataframe\">\n",
              "  <thead>\n",
              "    <tr style=\"text-align: right;\">\n",
              "      <th></th>\n",
              "      <th>번호</th>\n",
              "      <th>지역</th>\n",
              "      <th>지역2</th>\n",
              "      <th>상표</th>\n",
              "      <th>셀프여부</th>\n",
              "      <th>휘발유_2018</th>\n",
              "      <th>휘발유_2019</th>\n",
              "      <th>휘발유_2020</th>\n",
              "      <th>휘발유_2021</th>\n",
              "    </tr>\n",
              "  </thead>\n",
              "  <tbody>\n",
              "    <tr>\n",
              "      <th>0</th>\n",
              "      <td>A0000004</td>\n",
              "      <td>경기 광명시</td>\n",
              "      <td>경기</td>\n",
              "      <td>GS칼텍스</td>\n",
              "      <td>일반</td>\n",
              "      <td>1599.0</td>\n",
              "      <td>1529.000000</td>\n",
              "      <td>1289.714286</td>\n",
              "      <td>1545.857143</td>\n",
              "    </tr>\n",
              "    <tr>\n",
              "      <th>1</th>\n",
              "      <td>A0000011</td>\n",
              "      <td>서울 양천구</td>\n",
              "      <td>서울</td>\n",
              "      <td>GS칼텍스</td>\n",
              "      <td>일반</td>\n",
              "      <td>1594.0</td>\n",
              "      <td>1524.000000</td>\n",
              "      <td>1283.571429</td>\n",
              "      <td>1542.428571</td>\n",
              "    </tr>\n",
              "    <tr>\n",
              "      <th>2</th>\n",
              "      <td>A0000012</td>\n",
              "      <td>경기 용인시</td>\n",
              "      <td>경기</td>\n",
              "      <td>GS칼텍스</td>\n",
              "      <td>일반</td>\n",
              "      <td>1594.0</td>\n",
              "      <td>1529.000000</td>\n",
              "      <td>1287.285714</td>\n",
              "      <td>1552.142857</td>\n",
              "    </tr>\n",
              "    <tr>\n",
              "      <th>3</th>\n",
              "      <td>A0000014</td>\n",
              "      <td>강원 인제군</td>\n",
              "      <td>강원</td>\n",
              "      <td>GS칼텍스</td>\n",
              "      <td>일반</td>\n",
              "      <td>1609.0</td>\n",
              "      <td>1549.000000</td>\n",
              "      <td>1314.000000</td>\n",
              "      <td>1575.000000</td>\n",
              "    </tr>\n",
              "    <tr>\n",
              "      <th>4</th>\n",
              "      <td>A0000015</td>\n",
              "      <td>서울 송파구</td>\n",
              "      <td>서울</td>\n",
              "      <td>현대오일뱅크</td>\n",
              "      <td>셀프</td>\n",
              "      <td>1589.0</td>\n",
              "      <td>1512.428571</td>\n",
              "      <td>1289.285714</td>\n",
              "      <td>1575.714286</td>\n",
              "    </tr>\n",
              "  </tbody>\n",
              "</table>\n",
              "</div>"
            ],
            "text/plain": [
              "         번호      지역 지역2  ...     휘발유_2019     휘발유_2020     휘발유_2021\n",
              "0  A0000004  경기 광명시  경기  ...  1529.000000  1289.714286  1545.857143\n",
              "1  A0000011  서울 양천구  서울  ...  1524.000000  1283.571429  1542.428571\n",
              "2  A0000012  경기 용인시  경기  ...  1529.000000  1287.285714  1552.142857\n",
              "3  A0000014  강원 인제군  강원  ...  1549.000000  1314.000000  1575.000000\n",
              "4  A0000015  서울 송파구  서울  ...  1512.428571  1289.285714  1575.714286\n",
              "\n",
              "[5 rows x 9 columns]"
            ]
          },
          "metadata": {},
          "execution_count": 76
        }
      ]
    },
    {
      "cell_type": "code",
      "metadata": {
        "colab": {
          "base_uri": "https://localhost:8080/"
        },
        "id": "pWJ5HVUXwthm",
        "outputId": "9cc57f64-a486-4461-d584-6e336c974db6"
      },
      "source": [
        "m.groupby('번호').size().sort_values(ascending=False).head()"
      ],
      "execution_count": 77,
      "outputs": [
        {
          "output_type": "execute_result",
          "data": {
            "text/plain": [
              "번호\n",
              "A0019752    4\n",
              "A0022655    3\n",
              "A0021367    3\n",
              "A0009267    3\n",
              "A0030280    3\n",
              "dtype: int64"
            ]
          },
          "metadata": {},
          "execution_count": 77
        }
      ]
    },
    {
      "cell_type": "code",
      "metadata": {
        "colab": {
          "base_uri": "https://localhost:8080/",
          "height": 173
        },
        "id": "whSIs_Z7wvaj",
        "outputId": "fe75ac42-0b4b-48e8-9f75-fa849e50f861"
      },
      "source": [
        "m.loc[m['번호']=='A0019752']"
      ],
      "execution_count": 78,
      "outputs": [
        {
          "output_type": "execute_result",
          "data": {
            "text/html": [
              "<div>\n",
              "<style scoped>\n",
              "    .dataframe tbody tr th:only-of-type {\n",
              "        vertical-align: middle;\n",
              "    }\n",
              "\n",
              "    .dataframe tbody tr th {\n",
              "        vertical-align: top;\n",
              "    }\n",
              "\n",
              "    .dataframe thead th {\n",
              "        text-align: right;\n",
              "    }\n",
              "</style>\n",
              "<table border=\"1\" class=\"dataframe\">\n",
              "  <thead>\n",
              "    <tr style=\"text-align: right;\">\n",
              "      <th></th>\n",
              "      <th>번호</th>\n",
              "      <th>지역</th>\n",
              "      <th>지역2</th>\n",
              "      <th>상표</th>\n",
              "      <th>셀프여부</th>\n",
              "      <th>휘발유_2018</th>\n",
              "      <th>휘발유_2019</th>\n",
              "      <th>휘발유_2020</th>\n",
              "      <th>휘발유_2021</th>\n",
              "    </tr>\n",
              "  </thead>\n",
              "  <tbody>\n",
              "    <tr>\n",
              "      <th>6660</th>\n",
              "      <td>A0019752</td>\n",
              "      <td>광주 북구</td>\n",
              "      <td>광주</td>\n",
              "      <td>현대오일뱅크</td>\n",
              "      <td>셀프</td>\n",
              "      <td>1596.0</td>\n",
              "      <td>NaN</td>\n",
              "      <td>NaN</td>\n",
              "      <td>NaN</td>\n",
              "    </tr>\n",
              "    <tr>\n",
              "      <th>11965</th>\n",
              "      <td>A0019752</td>\n",
              "      <td>광주 북구</td>\n",
              "      <td>광주</td>\n",
              "      <td>GS칼텍스</td>\n",
              "      <td>셀프</td>\n",
              "      <td>NaN</td>\n",
              "      <td>1536.0</td>\n",
              "      <td>NaN</td>\n",
              "      <td>NaN</td>\n",
              "    </tr>\n",
              "    <tr>\n",
              "      <th>12728</th>\n",
              "      <td>A0019752</td>\n",
              "      <td>광주 북구</td>\n",
              "      <td>광주</td>\n",
              "      <td>자가상표</td>\n",
              "      <td>셀프</td>\n",
              "      <td>NaN</td>\n",
              "      <td>NaN</td>\n",
              "      <td>1239.0</td>\n",
              "      <td>NaN</td>\n",
              "    </tr>\n",
              "    <tr>\n",
              "      <th>13314</th>\n",
              "      <td>A0019752</td>\n",
              "      <td>광주 북구</td>\n",
              "      <td>광주</td>\n",
              "      <td>알뜰주유소</td>\n",
              "      <td>셀프</td>\n",
              "      <td>NaN</td>\n",
              "      <td>NaN</td>\n",
              "      <td>NaN</td>\n",
              "      <td>1509.714286</td>\n",
              "    </tr>\n",
              "  </tbody>\n",
              "</table>\n",
              "</div>"
            ],
            "text/plain": [
              "             번호     지역 지역2      상표  ... 휘발유_2018  휘발유_2019  휘발유_2020     휘발유_2021\n",
              "6660   A0019752  광주 북구  광주  현대오일뱅크  ...   1596.0       NaN       NaN          NaN\n",
              "11965  A0019752  광주 북구  광주   GS칼텍스  ...      NaN    1536.0       NaN          NaN\n",
              "12728  A0019752  광주 북구  광주    자가상표  ...      NaN       NaN    1239.0          NaN\n",
              "13314  A0019752  광주 북구  광주   알뜰주유소  ...      NaN       NaN       NaN  1509.714286\n",
              "\n",
              "[4 rows x 9 columns]"
            ]
          },
          "metadata": {},
          "execution_count": 78
        }
      ]
    },
    {
      "cell_type": "code",
      "metadata": {
        "colab": {
          "base_uri": "https://localhost:8080/"
        },
        "id": "5iONhKsHwxZk",
        "outputId": "a10866a6-6820-48f9-b13f-9c18f867eb89"
      },
      "source": [
        "(m.groupby('번호').size()>1).sum()"
      ],
      "execution_count": 79,
      "outputs": [
        {
          "output_type": "execute_result",
          "data": {
            "text/plain": [
              "1338"
            ]
          },
          "metadata": {},
          "execution_count": 79
        }
      ]
    },
    {
      "cell_type": "code",
      "metadata": {
        "colab": {
          "base_uri": "https://localhost:8080/"
        },
        "id": "LymbjFHJwzZx",
        "outputId": "eb887bf2-17ee-4a00-dea0-5e5959a02c30"
      },
      "source": [
        "key.remove('상표')\n",
        "key"
      ],
      "execution_count": 80,
      "outputs": [
        {
          "output_type": "execute_result",
          "data": {
            "text/plain": [
              "['번호', '지역', '지역2', '셀프여부']"
            ]
          },
          "metadata": {},
          "execution_count": 80
        }
      ]
    },
    {
      "cell_type": "code",
      "metadata": {
        "id": "9Vr79M2xw1Lh"
      },
      "source": [
        "m1 = pd.merge(f_dict[2018],f_dict[2019],on=key,how='outer',suffixes=('_2018', '_2019'))\n",
        "m2 = pd.merge(f_dict[2020],f_dict[2021],on=key,how='outer',suffixes=('_2020', '_2021'))\n",
        "m = pd.merge(m1,m2,on=key,how='outer')"
      ],
      "execution_count": 81,
      "outputs": []
    },
    {
      "cell_type": "code",
      "metadata": {
        "colab": {
          "base_uri": "https://localhost:8080/",
          "height": 204
        },
        "id": "2pFyjJSww2wN",
        "outputId": "350e2da0-e0ba-401f-dfc7-927153223030"
      },
      "source": [
        "m.head()"
      ],
      "execution_count": 82,
      "outputs": [
        {
          "output_type": "execute_result",
          "data": {
            "text/html": [
              "<div>\n",
              "<style scoped>\n",
              "    .dataframe tbody tr th:only-of-type {\n",
              "        vertical-align: middle;\n",
              "    }\n",
              "\n",
              "    .dataframe tbody tr th {\n",
              "        vertical-align: top;\n",
              "    }\n",
              "\n",
              "    .dataframe thead th {\n",
              "        text-align: right;\n",
              "    }\n",
              "</style>\n",
              "<table border=\"1\" class=\"dataframe\">\n",
              "  <thead>\n",
              "    <tr style=\"text-align: right;\">\n",
              "      <th></th>\n",
              "      <th>번호</th>\n",
              "      <th>지역</th>\n",
              "      <th>지역2</th>\n",
              "      <th>상표_2018</th>\n",
              "      <th>셀프여부</th>\n",
              "      <th>휘발유_2018</th>\n",
              "      <th>상표_2019</th>\n",
              "      <th>휘발유_2019</th>\n",
              "      <th>상표_2020</th>\n",
              "      <th>휘발유_2020</th>\n",
              "      <th>상표_2021</th>\n",
              "      <th>휘발유_2021</th>\n",
              "    </tr>\n",
              "  </thead>\n",
              "  <tbody>\n",
              "    <tr>\n",
              "      <th>0</th>\n",
              "      <td>A0000004</td>\n",
              "      <td>경기 광명시</td>\n",
              "      <td>경기</td>\n",
              "      <td>GS칼텍스</td>\n",
              "      <td>일반</td>\n",
              "      <td>1599.0</td>\n",
              "      <td>GS칼텍스</td>\n",
              "      <td>1529.000000</td>\n",
              "      <td>GS칼텍스</td>\n",
              "      <td>1289.714286</td>\n",
              "      <td>GS칼텍스</td>\n",
              "      <td>1545.857143</td>\n",
              "    </tr>\n",
              "    <tr>\n",
              "      <th>1</th>\n",
              "      <td>A0000011</td>\n",
              "      <td>서울 양천구</td>\n",
              "      <td>서울</td>\n",
              "      <td>GS칼텍스</td>\n",
              "      <td>일반</td>\n",
              "      <td>1594.0</td>\n",
              "      <td>GS칼텍스</td>\n",
              "      <td>1524.000000</td>\n",
              "      <td>GS칼텍스</td>\n",
              "      <td>1283.571429</td>\n",
              "      <td>GS칼텍스</td>\n",
              "      <td>1542.428571</td>\n",
              "    </tr>\n",
              "    <tr>\n",
              "      <th>2</th>\n",
              "      <td>A0000012</td>\n",
              "      <td>경기 용인시</td>\n",
              "      <td>경기</td>\n",
              "      <td>GS칼텍스</td>\n",
              "      <td>일반</td>\n",
              "      <td>1594.0</td>\n",
              "      <td>GS칼텍스</td>\n",
              "      <td>1529.000000</td>\n",
              "      <td>GS칼텍스</td>\n",
              "      <td>1287.285714</td>\n",
              "      <td>GS칼텍스</td>\n",
              "      <td>1552.142857</td>\n",
              "    </tr>\n",
              "    <tr>\n",
              "      <th>3</th>\n",
              "      <td>A0000014</td>\n",
              "      <td>강원 인제군</td>\n",
              "      <td>강원</td>\n",
              "      <td>GS칼텍스</td>\n",
              "      <td>일반</td>\n",
              "      <td>1609.0</td>\n",
              "      <td>GS칼텍스</td>\n",
              "      <td>1549.000000</td>\n",
              "      <td>GS칼텍스</td>\n",
              "      <td>1314.000000</td>\n",
              "      <td>GS칼텍스</td>\n",
              "      <td>1575.000000</td>\n",
              "    </tr>\n",
              "    <tr>\n",
              "      <th>4</th>\n",
              "      <td>A0000015</td>\n",
              "      <td>서울 송파구</td>\n",
              "      <td>서울</td>\n",
              "      <td>현대오일뱅크</td>\n",
              "      <td>셀프</td>\n",
              "      <td>1589.0</td>\n",
              "      <td>현대오일뱅크</td>\n",
              "      <td>1512.428571</td>\n",
              "      <td>현대오일뱅크</td>\n",
              "      <td>1289.285714</td>\n",
              "      <td>현대오일뱅크</td>\n",
              "      <td>1575.714286</td>\n",
              "    </tr>\n",
              "  </tbody>\n",
              "</table>\n",
              "</div>"
            ],
            "text/plain": [
              "         번호      지역 지역2 상표_2018  ... 상표_2020     휘발유_2020 상표_2021     휘발유_2021\n",
              "0  A0000004  경기 광명시  경기   GS칼텍스  ...   GS칼텍스  1289.714286   GS칼텍스  1545.857143\n",
              "1  A0000011  서울 양천구  서울   GS칼텍스  ...   GS칼텍스  1283.571429   GS칼텍스  1542.428571\n",
              "2  A0000012  경기 용인시  경기   GS칼텍스  ...   GS칼텍스  1287.285714   GS칼텍스  1552.142857\n",
              "3  A0000014  강원 인제군  강원   GS칼텍스  ...   GS칼텍스  1314.000000   GS칼텍스  1575.000000\n",
              "4  A0000015  서울 송파구  서울  현대오일뱅크  ...  현대오일뱅크  1289.285714  현대오일뱅크  1575.714286\n",
              "\n",
              "[5 rows x 12 columns]"
            ]
          },
          "metadata": {},
          "execution_count": 82
        }
      ]
    },
    {
      "cell_type": "code",
      "metadata": {
        "colab": {
          "base_uri": "https://localhost:8080/"
        },
        "id": "p7zojlOAw4gU",
        "outputId": "ea53f8da-c9b5-4c13-a0da-362031c13c64"
      },
      "source": [
        "size = m.groupby('번호').size().sort_values(ascending=False)\n",
        "size.head()"
      ],
      "execution_count": 83,
      "outputs": [
        {
          "output_type": "execute_result",
          "data": {
            "text/plain": [
              "번호\n",
              "A0033348    2\n",
              "A0007535    2\n",
              "A0033180    2\n",
              "A0002532    2\n",
              "A0012076    1\n",
              "dtype: int64"
            ]
          },
          "metadata": {},
          "execution_count": 83
        }
      ]
    },
    {
      "cell_type": "code",
      "metadata": {
        "colab": {
          "base_uri": "https://localhost:8080/",
          "height": 297
        },
        "id": "4H77FVbtw6XA",
        "outputId": "eb5db4e3-47ea-4f0d-a190-c5806a2eb538"
      },
      "source": [
        "target = size[size>1].index\n",
        "m.loc[m['번호'].isin(target)].sort_values('번호')"
      ],
      "execution_count": 84,
      "outputs": [
        {
          "output_type": "execute_result",
          "data": {
            "text/html": [
              "<div>\n",
              "<style scoped>\n",
              "    .dataframe tbody tr th:only-of-type {\n",
              "        vertical-align: middle;\n",
              "    }\n",
              "\n",
              "    .dataframe tbody tr th {\n",
              "        vertical-align: top;\n",
              "    }\n",
              "\n",
              "    .dataframe thead th {\n",
              "        text-align: right;\n",
              "    }\n",
              "</style>\n",
              "<table border=\"1\" class=\"dataframe\">\n",
              "  <thead>\n",
              "    <tr style=\"text-align: right;\">\n",
              "      <th></th>\n",
              "      <th>번호</th>\n",
              "      <th>지역</th>\n",
              "      <th>지역2</th>\n",
              "      <th>상표_2018</th>\n",
              "      <th>셀프여부</th>\n",
              "      <th>휘발유_2018</th>\n",
              "      <th>상표_2019</th>\n",
              "      <th>휘발유_2019</th>\n",
              "      <th>상표_2020</th>\n",
              "      <th>휘발유_2020</th>\n",
              "      <th>상표_2021</th>\n",
              "      <th>휘발유_2021</th>\n",
              "    </tr>\n",
              "  </thead>\n",
              "  <tbody>\n",
              "    <tr>\n",
              "      <th>763</th>\n",
              "      <td>A0002532</td>\n",
              "      <td>경기 수원시</td>\n",
              "      <td>경기</td>\n",
              "      <td>S-OIL</td>\n",
              "      <td>셀프</td>\n",
              "      <td>1601.571429</td>\n",
              "      <td>S-OIL</td>\n",
              "      <td>1511.714286</td>\n",
              "      <td>NaN</td>\n",
              "      <td>NaN</td>\n",
              "      <td>NaN</td>\n",
              "      <td>NaN</td>\n",
              "    </tr>\n",
              "    <tr>\n",
              "      <th>11944</th>\n",
              "      <td>A0002532</td>\n",
              "      <td>경기 용인시</td>\n",
              "      <td>경기</td>\n",
              "      <td>NaN</td>\n",
              "      <td>셀프</td>\n",
              "      <td>NaN</td>\n",
              "      <td>NaN</td>\n",
              "      <td>NaN</td>\n",
              "      <td>S-OIL</td>\n",
              "      <td>1278.285714</td>\n",
              "      <td>S-OIL</td>\n",
              "      <td>1515.857143</td>\n",
              "    </tr>\n",
              "    <tr>\n",
              "      <th>2331</th>\n",
              "      <td>A0007535</td>\n",
              "      <td>경기 수원시</td>\n",
              "      <td>경기</td>\n",
              "      <td>SK에너지</td>\n",
              "      <td>일반</td>\n",
              "      <td>1609.000000</td>\n",
              "      <td>SK에너지</td>\n",
              "      <td>1524.000000</td>\n",
              "      <td>NaN</td>\n",
              "      <td>NaN</td>\n",
              "      <td>NaN</td>\n",
              "      <td>NaN</td>\n",
              "    </tr>\n",
              "    <tr>\n",
              "      <th>11951</th>\n",
              "      <td>A0007535</td>\n",
              "      <td>경기 용인시</td>\n",
              "      <td>경기</td>\n",
              "      <td>NaN</td>\n",
              "      <td>일반</td>\n",
              "      <td>NaN</td>\n",
              "      <td>NaN</td>\n",
              "      <td>NaN</td>\n",
              "      <td>SK에너지</td>\n",
              "      <td>1304.000000</td>\n",
              "      <td>SK에너지</td>\n",
              "      <td>1534.428571</td>\n",
              "    </tr>\n",
              "    <tr>\n",
              "      <th>11551</th>\n",
              "      <td>A0033180</td>\n",
              "      <td>경북 구미시</td>\n",
              "      <td>경북</td>\n",
              "      <td>SK에너지</td>\n",
              "      <td>일반</td>\n",
              "      <td>1590.571429</td>\n",
              "      <td>SK에너지</td>\n",
              "      <td>1511.142857</td>\n",
              "      <td>NaN</td>\n",
              "      <td>NaN</td>\n",
              "      <td>NaN</td>\n",
              "      <td>NaN</td>\n",
              "    </tr>\n",
              "    <tr>\n",
              "      <th>12008</th>\n",
              "      <td>A0033180</td>\n",
              "      <td>경북 의성군</td>\n",
              "      <td>경북</td>\n",
              "      <td>NaN</td>\n",
              "      <td>일반</td>\n",
              "      <td>NaN</td>\n",
              "      <td>NaN</td>\n",
              "      <td>NaN</td>\n",
              "      <td>SK에너지</td>\n",
              "      <td>1225.428571</td>\n",
              "      <td>SK에너지</td>\n",
              "      <td>1526.428571</td>\n",
              "    </tr>\n",
              "    <tr>\n",
              "      <th>11918</th>\n",
              "      <td>A0033348</td>\n",
              "      <td>강원 강릉시</td>\n",
              "      <td>강원</td>\n",
              "      <td>NaN</td>\n",
              "      <td>일반</td>\n",
              "      <td>NaN</td>\n",
              "      <td>NH-OIL</td>\n",
              "      <td>1500.000000</td>\n",
              "      <td>NaN</td>\n",
              "      <td>NaN</td>\n",
              "      <td>NaN</td>\n",
              "      <td>NaN</td>\n",
              "    </tr>\n",
              "    <tr>\n",
              "      <th>12011</th>\n",
              "      <td>A0033348</td>\n",
              "      <td>강원 삼척시</td>\n",
              "      <td>강원</td>\n",
              "      <td>NaN</td>\n",
              "      <td>일반</td>\n",
              "      <td>NaN</td>\n",
              "      <td>NaN</td>\n",
              "      <td>NaN</td>\n",
              "      <td>NH-OIL</td>\n",
              "      <td>1250.000000</td>\n",
              "      <td>NH-OIL</td>\n",
              "      <td>1540.000000</td>\n",
              "    </tr>\n",
              "  </tbody>\n",
              "</table>\n",
              "</div>"
            ],
            "text/plain": [
              "             번호      지역 지역2 상표_2018  ... 상표_2020     휘발유_2020 상표_2021     휘발유_2021\n",
              "763    A0002532  경기 수원시  경기   S-OIL  ...     NaN          NaN     NaN          NaN\n",
              "11944  A0002532  경기 용인시  경기     NaN  ...   S-OIL  1278.285714   S-OIL  1515.857143\n",
              "2331   A0007535  경기 수원시  경기   SK에너지  ...     NaN          NaN     NaN          NaN\n",
              "11951  A0007535  경기 용인시  경기     NaN  ...   SK에너지  1304.000000   SK에너지  1534.428571\n",
              "11551  A0033180  경북 구미시  경북   SK에너지  ...     NaN          NaN     NaN          NaN\n",
              "12008  A0033180  경북 의성군  경북     NaN  ...   SK에너지  1225.428571   SK에너지  1526.428571\n",
              "11918  A0033348  강원 강릉시  강원     NaN  ...     NaN          NaN     NaN          NaN\n",
              "12011  A0033348  강원 삼척시  강원     NaN  ...  NH-OIL  1250.000000  NH-OIL  1540.000000\n",
              "\n",
              "[8 rows x 12 columns]"
            ]
          },
          "metadata": {},
          "execution_count": 84
        }
      ]
    },
    {
      "cell_type": "code",
      "metadata": {
        "colab": {
          "base_uri": "https://localhost:8080/"
        },
        "id": "OKvHNnb1w8Gj",
        "outputId": "dc698844-f4aa-4028-bf19-abc05fc5e1a7"
      },
      "source": [
        "m = m.loc[~m['번호'].isin(target)]\n",
        "m.groupby('번호').size().sort_values(ascending=False).head()"
      ],
      "execution_count": 85,
      "outputs": [
        {
          "output_type": "execute_result",
          "data": {
            "text/plain": [
              "번호\n",
              "A0033551    1\n",
              "A0012079    1\n",
              "A0012106    1\n",
              "A0012103    1\n",
              "A0012102    1\n",
              "dtype: int64"
            ]
          },
          "metadata": {},
          "execution_count": 85
        }
      ]
    },
    {
      "cell_type": "code",
      "metadata": {
        "id": "zm-7lrajw99J"
      },
      "source": [
        "# 이상치 발견되었던 주유소 필터링\n",
        "m = m.loc[[x not in out_all for x in m['번호']]]"
      ],
      "execution_count": 86,
      "outputs": []
    },
    {
      "cell_type": "code",
      "metadata": {
        "colab": {
          "base_uri": "https://localhost:8080/",
          "height": 204
        },
        "id": "pIGPbFgLxCKA",
        "outputId": "d0df0e6f-dcc6-4ea8-b1fc-82027288df2e"
      },
      "source": [
        "m.head()"
      ],
      "execution_count": 87,
      "outputs": [
        {
          "output_type": "execute_result",
          "data": {
            "text/html": [
              "<div>\n",
              "<style scoped>\n",
              "    .dataframe tbody tr th:only-of-type {\n",
              "        vertical-align: middle;\n",
              "    }\n",
              "\n",
              "    .dataframe tbody tr th {\n",
              "        vertical-align: top;\n",
              "    }\n",
              "\n",
              "    .dataframe thead th {\n",
              "        text-align: right;\n",
              "    }\n",
              "</style>\n",
              "<table border=\"1\" class=\"dataframe\">\n",
              "  <thead>\n",
              "    <tr style=\"text-align: right;\">\n",
              "      <th></th>\n",
              "      <th>번호</th>\n",
              "      <th>지역</th>\n",
              "      <th>지역2</th>\n",
              "      <th>상표_2018</th>\n",
              "      <th>셀프여부</th>\n",
              "      <th>휘발유_2018</th>\n",
              "      <th>상표_2019</th>\n",
              "      <th>휘발유_2019</th>\n",
              "      <th>상표_2020</th>\n",
              "      <th>휘발유_2020</th>\n",
              "      <th>상표_2021</th>\n",
              "      <th>휘발유_2021</th>\n",
              "    </tr>\n",
              "  </thead>\n",
              "  <tbody>\n",
              "    <tr>\n",
              "      <th>0</th>\n",
              "      <td>A0000004</td>\n",
              "      <td>경기 광명시</td>\n",
              "      <td>경기</td>\n",
              "      <td>GS칼텍스</td>\n",
              "      <td>일반</td>\n",
              "      <td>1599.0</td>\n",
              "      <td>GS칼텍스</td>\n",
              "      <td>1529.000000</td>\n",
              "      <td>GS칼텍스</td>\n",
              "      <td>1289.714286</td>\n",
              "      <td>GS칼텍스</td>\n",
              "      <td>1545.857143</td>\n",
              "    </tr>\n",
              "    <tr>\n",
              "      <th>1</th>\n",
              "      <td>A0000011</td>\n",
              "      <td>서울 양천구</td>\n",
              "      <td>서울</td>\n",
              "      <td>GS칼텍스</td>\n",
              "      <td>일반</td>\n",
              "      <td>1594.0</td>\n",
              "      <td>GS칼텍스</td>\n",
              "      <td>1524.000000</td>\n",
              "      <td>GS칼텍스</td>\n",
              "      <td>1283.571429</td>\n",
              "      <td>GS칼텍스</td>\n",
              "      <td>1542.428571</td>\n",
              "    </tr>\n",
              "    <tr>\n",
              "      <th>2</th>\n",
              "      <td>A0000012</td>\n",
              "      <td>경기 용인시</td>\n",
              "      <td>경기</td>\n",
              "      <td>GS칼텍스</td>\n",
              "      <td>일반</td>\n",
              "      <td>1594.0</td>\n",
              "      <td>GS칼텍스</td>\n",
              "      <td>1529.000000</td>\n",
              "      <td>GS칼텍스</td>\n",
              "      <td>1287.285714</td>\n",
              "      <td>GS칼텍스</td>\n",
              "      <td>1552.142857</td>\n",
              "    </tr>\n",
              "    <tr>\n",
              "      <th>3</th>\n",
              "      <td>A0000014</td>\n",
              "      <td>강원 인제군</td>\n",
              "      <td>강원</td>\n",
              "      <td>GS칼텍스</td>\n",
              "      <td>일반</td>\n",
              "      <td>1609.0</td>\n",
              "      <td>GS칼텍스</td>\n",
              "      <td>1549.000000</td>\n",
              "      <td>GS칼텍스</td>\n",
              "      <td>1314.000000</td>\n",
              "      <td>GS칼텍스</td>\n",
              "      <td>1575.000000</td>\n",
              "    </tr>\n",
              "    <tr>\n",
              "      <th>4</th>\n",
              "      <td>A0000015</td>\n",
              "      <td>서울 송파구</td>\n",
              "      <td>서울</td>\n",
              "      <td>현대오일뱅크</td>\n",
              "      <td>셀프</td>\n",
              "      <td>1589.0</td>\n",
              "      <td>현대오일뱅크</td>\n",
              "      <td>1512.428571</td>\n",
              "      <td>현대오일뱅크</td>\n",
              "      <td>1289.285714</td>\n",
              "      <td>현대오일뱅크</td>\n",
              "      <td>1575.714286</td>\n",
              "    </tr>\n",
              "  </tbody>\n",
              "</table>\n",
              "</div>"
            ],
            "text/plain": [
              "         번호      지역 지역2 상표_2018  ... 상표_2020     휘발유_2020 상표_2021     휘발유_2021\n",
              "0  A0000004  경기 광명시  경기   GS칼텍스  ...   GS칼텍스  1289.714286   GS칼텍스  1545.857143\n",
              "1  A0000011  서울 양천구  서울   GS칼텍스  ...   GS칼텍스  1283.571429   GS칼텍스  1542.428571\n",
              "2  A0000012  경기 용인시  경기   GS칼텍스  ...   GS칼텍스  1287.285714   GS칼텍스  1552.142857\n",
              "3  A0000014  강원 인제군  강원   GS칼텍스  ...   GS칼텍스  1314.000000   GS칼텍스  1575.000000\n",
              "4  A0000015  서울 송파구  서울  현대오일뱅크  ...  현대오일뱅크  1289.285714  현대오일뱅크  1575.714286\n",
              "\n",
              "[5 rows x 12 columns]"
            ]
          },
          "metadata": {},
          "execution_count": 87
        }
      ]
    },
    {
      "cell_type": "markdown",
      "metadata": {
        "id": "pm-ggtzxxGH4"
      },
      "source": [
        "# 주유소 개폐업 현황 분석: 연도별 주유소 ID 비교를 통한 개폐업 현황 분석"
      ]
    },
    {
      "cell_type": "code",
      "metadata": {
        "id": "QT4xbq6-xCcK"
      },
      "source": [
        "#연도별 개폐업 수치 분석\n",
        "id_dict=dict()\n",
        "for year in range(2018,2022):\n",
        "    id_dict[year] = set(m.loc[~m[f'상표_{year}'].isna()]['번호'].unique())"
      ],
      "execution_count": 88,
      "outputs": []
    },
    {
      "cell_type": "code",
      "metadata": {
        "id": "uyGlWi4uxOm7"
      },
      "source": [
        "diff_dict=dict()\n",
        "for year in range(2018,2021):\n",
        "    opened = len(id_dict[year+1].difference(id_dict[year]))\n",
        "    closed = len(id_dict[year].difference(id_dict[year+1]))\n",
        "    diff_dict[f'{year}_{year+1}']=[opened,closed]\n",
        "diff_df = pd.DataFrame(diff_dict,index=['OPENED','CLOSED'])  "
      ],
      "execution_count": 89,
      "outputs": []
    },
    {
      "cell_type": "code",
      "metadata": {
        "colab": {
          "base_uri": "https://localhost:8080/",
          "height": 111
        },
        "id": "wUvpzJymxQzn",
        "outputId": "b26620f0-ad58-4811-9ce8-851861e904dc"
      },
      "source": [
        "diff_df"
      ],
      "execution_count": 90,
      "outputs": [
        {
          "output_type": "execute_result",
          "data": {
            "text/html": [
              "<div>\n",
              "<style scoped>\n",
              "    .dataframe tbody tr th:only-of-type {\n",
              "        vertical-align: middle;\n",
              "    }\n",
              "\n",
              "    .dataframe tbody tr th {\n",
              "        vertical-align: top;\n",
              "    }\n",
              "\n",
              "    .dataframe thead th {\n",
              "        text-align: right;\n",
              "    }\n",
              "</style>\n",
              "<table border=\"1\" class=\"dataframe\">\n",
              "  <thead>\n",
              "    <tr style=\"text-align: right;\">\n",
              "      <th></th>\n",
              "      <th>2018_2019</th>\n",
              "      <th>2019_2020</th>\n",
              "      <th>2020_2021</th>\n",
              "    </tr>\n",
              "  </thead>\n",
              "  <tbody>\n",
              "    <tr>\n",
              "      <th>OPENED</th>\n",
              "      <td>291</td>\n",
              "      <td>268</td>\n",
              "      <td>223</td>\n",
              "    </tr>\n",
              "    <tr>\n",
              "      <th>CLOSED</th>\n",
              "      <td>436</td>\n",
              "      <td>344</td>\n",
              "      <td>383</td>\n",
              "    </tr>\n",
              "  </tbody>\n",
              "</table>\n",
              "</div>"
            ],
            "text/plain": [
              "        2018_2019  2019_2020  2020_2021\n",
              "OPENED        291        268        223\n",
              "CLOSED        436        344        383"
            ]
          },
          "metadata": {},
          "execution_count": 90
        }
      ]
    },
    {
      "cell_type": "code",
      "metadata": {
        "colab": {
          "base_uri": "https://localhost:8080/",
          "height": 282
        },
        "id": "MF3YBiaoxSxs",
        "outputId": "5e61e40b-5341-476d-ab47-5998a2df999b"
      },
      "source": [
        "diff_df.plot()"
      ],
      "execution_count": 91,
      "outputs": [
        {
          "output_type": "execute_result",
          "data": {
            "text/plain": [
              "<matplotlib.axes._subplots.AxesSubplot at 0x7f5a5c39e650>"
            ]
          },
          "metadata": {},
          "execution_count": 91
        },
        {
          "output_type": "display_data",
          "data": {
            "image/png": "[encoded data removed]",
            "text/plain": [
              "<Figure size 432x288 with 1 Axes>"
            ]
          },
          "metadata": {}
        }
      ]
    },
    {
      "cell_type": "code",
      "metadata": {
        "colab": {
          "base_uri": "https://localhost:8080/",
          "height": 283
        },
        "id": "pXhr7EnQxTJE",
        "outputId": "62721f6c-738b-47a2-948a-f5406da4da76"
      },
      "source": [
        "diff_df.T.plot(color=['r','b'])"
      ],
      "execution_count": 92,
      "outputs": [
        {
          "output_type": "execute_result",
          "data": {
            "text/plain": [
              "<matplotlib.axes._subplots.AxesSubplot at 0x7f5a5aea0790>"
            ]
          },
          "metadata": {},
          "execution_count": 92
        },
        {
          "output_type": "display_data",
          "data": {
            "image/png": "[encoded data removed]",
            "text/plain": [
              "<Figure size 432x288 with 1 Axes>"
            ]
          },
          "metadata": {}
        }
      ]
    },
    {
      "cell_type": "code",
      "metadata": {
        "colab": {
          "base_uri": "https://localhost:8080/",
          "height": 111
        },
        "id": "um4lxKoDxVGM",
        "outputId": "df396cbd-57f0-4097-b481-ed9edd8935bd"
      },
      "source": [
        "#2020년에 신규 개업한 셀프 주유소의 개수\n",
        "id_dict=dict()\n",
        "for year in range(2018,2022):\n",
        "    id_dict[year] = set(m.loc[(~m[f'상표_{year}'].isna())&(m['셀프여부']=='셀프')]['번호'].unique())\n",
        "diff_dict=dict()\n",
        "for year in range(2018,2021):\n",
        "    opened = len(id_dict[year+1].difference(id_dict[year]))\n",
        "    closed = len(id_dict[year].difference(id_dict[year+1]))\n",
        "    diff_dict[f'{year}_{year+1}']=[opened,closed]\n",
        "diff_df = pd.DataFrame(diff_dict,index=['OPENED','CLOSED'])    \n",
        "diff_df"
      ],
      "execution_count": 93,
      "outputs": [
        {
          "output_type": "execute_result",
          "data": {
            "text/html": [
              "<div>\n",
              "<style scoped>\n",
              "    .dataframe tbody tr th:only-of-type {\n",
              "        vertical-align: middle;\n",
              "    }\n",
              "\n",
              "    .dataframe tbody tr th {\n",
              "        vertical-align: top;\n",
              "    }\n",
              "\n",
              "    .dataframe thead th {\n",
              "        text-align: right;\n",
              "    }\n",
              "</style>\n",
              "<table border=\"1\" class=\"dataframe\">\n",
              "  <thead>\n",
              "    <tr style=\"text-align: right;\">\n",
              "      <th></th>\n",
              "      <th>2018_2019</th>\n",
              "      <th>2019_2020</th>\n",
              "      <th>2020_2021</th>\n",
              "    </tr>\n",
              "  </thead>\n",
              "  <tbody>\n",
              "    <tr>\n",
              "      <th>OPENED</th>\n",
              "      <td>189</td>\n",
              "      <td>172</td>\n",
              "      <td>136</td>\n",
              "    </tr>\n",
              "    <tr>\n",
              "      <th>CLOSED</th>\n",
              "      <td>139</td>\n",
              "      <td>117</td>\n",
              "      <td>143</td>\n",
              "    </tr>\n",
              "  </tbody>\n",
              "</table>\n",
              "</div>"
            ],
            "text/plain": [
              "        2018_2019  2019_2020  2020_2021\n",
              "OPENED        189        172        136\n",
              "CLOSED        139        117        143"
            ]
          },
          "metadata": {},
          "execution_count": 93
        }
      ]
    },
    {
      "cell_type": "markdown",
      "metadata": {
        "id": "zfdVZoY-yCMn"
      },
      "source": [
        "# 브랜드 분석: 브랜드별 가격경쟁력 및 시장점유율 분석¶"
      ]
    },
    {
      "cell_type": "code",
      "metadata": {
        "id": "gYMikhFdx9WX"
      },
      "source": [
        "#주요 브랜드별 가격 Line Plot 분석\n",
        "brand_price_dict=dict()\n",
        "for year in range(2018,2022):\n",
        "    brand_price_dict[str(year)]=m.groupby(f'상표_{year}')[f'휘발유_{year}'].mean()"
      ],
      "execution_count": 94,
      "outputs": []
    },
    {
      "cell_type": "code",
      "metadata": {
        "colab": {
          "base_uri": "https://localhost:8080/",
          "height": 359
        },
        "id": "VUkZ4e4WyKte",
        "outputId": "eca537fb-d84e-4cd5-ef59-4a1628820ead"
      },
      "source": [
        "brand_price_df = pd.DataFrame(brand_price_dict)\n",
        "brand_price_df"
      ],
      "execution_count": 95,
      "outputs": [
        {
          "output_type": "execute_result",
          "data": {
            "text/html": [
              "<div>\n",
              "<style scoped>\n",
              "    .dataframe tbody tr th:only-of-type {\n",
              "        vertical-align: middle;\n",
              "    }\n",
              "\n",
              "    .dataframe tbody tr th {\n",
              "        vertical-align: top;\n",
              "    }\n",
              "\n",
              "    .dataframe thead th {\n",
              "        text-align: right;\n",
              "    }\n",
              "</style>\n",
              "<table border=\"1\" class=\"dataframe\">\n",
              "  <thead>\n",
              "    <tr style=\"text-align: right;\">\n",
              "      <th></th>\n",
              "      <th>2018</th>\n",
              "      <th>2019</th>\n",
              "      <th>2020</th>\n",
              "      <th>2021</th>\n",
              "    </tr>\n",
              "  </thead>\n",
              "  <tbody>\n",
              "    <tr>\n",
              "      <th>GS칼텍스</th>\n",
              "      <td>1613.165695</td>\n",
              "      <td>1540.997849</td>\n",
              "      <td>1293.541879</td>\n",
              "      <td>1565.823135</td>\n",
              "    </tr>\n",
              "    <tr>\n",
              "      <th>NC오일</th>\n",
              "      <td>1580.880952</td>\n",
              "      <td>1513.285714</td>\n",
              "      <td>1256.357143</td>\n",
              "      <td>1542.619048</td>\n",
              "    </tr>\n",
              "    <tr>\n",
              "      <th>NH-OIL</th>\n",
              "      <td>1588.411114</td>\n",
              "      <td>1515.996650</td>\n",
              "      <td>1246.254150</td>\n",
              "      <td>1541.557866</td>\n",
              "    </tr>\n",
              "    <tr>\n",
              "      <th>S-OIL</th>\n",
              "      <td>1602.540115</td>\n",
              "      <td>1529.983482</td>\n",
              "      <td>1282.095394</td>\n",
              "      <td>1556.408657</td>\n",
              "    </tr>\n",
              "    <tr>\n",
              "      <th>SK가스</th>\n",
              "      <td>NaN</td>\n",
              "      <td>1488.000000</td>\n",
              "      <td>NaN</td>\n",
              "      <td>NaN</td>\n",
              "    </tr>\n",
              "    <tr>\n",
              "      <th>SK에너지</th>\n",
              "      <td>1625.460126</td>\n",
              "      <td>1547.655582</td>\n",
              "      <td>1293.732067</td>\n",
              "      <td>1565.577095</td>\n",
              "    </tr>\n",
              "    <tr>\n",
              "      <th>알뜰(ex)</th>\n",
              "      <td>1581.561576</td>\n",
              "      <td>1494.770733</td>\n",
              "      <td>1213.862668</td>\n",
              "      <td>1503.712733</td>\n",
              "    </tr>\n",
              "    <tr>\n",
              "      <th>알뜰주유소</th>\n",
              "      <td>1580.825277</td>\n",
              "      <td>1501.781838</td>\n",
              "      <td>1243.666785</td>\n",
              "      <td>1528.513597</td>\n",
              "    </tr>\n",
              "    <tr>\n",
              "      <th>자가상표</th>\n",
              "      <td>1590.233309</td>\n",
              "      <td>1518.950920</td>\n",
              "      <td>1266.634483</td>\n",
              "      <td>1542.280423</td>\n",
              "    </tr>\n",
              "    <tr>\n",
              "      <th>현대오일뱅크</th>\n",
              "      <td>1600.777986</td>\n",
              "      <td>1528.850142</td>\n",
              "      <td>1284.379155</td>\n",
              "      <td>1559.624500</td>\n",
              "    </tr>\n",
              "  </tbody>\n",
              "</table>\n",
              "</div>"
            ],
            "text/plain": [
              "               2018         2019         2020         2021\n",
              "GS칼텍스   1613.165695  1540.997849  1293.541879  1565.823135\n",
              "NC오일    1580.880952  1513.285714  1256.357143  1542.619048\n",
              "NH-OIL  1588.411114  1515.996650  1246.254150  1541.557866\n",
              "S-OIL   1602.540115  1529.983482  1282.095394  1556.408657\n",
              "SK가스            NaN  1488.000000          NaN          NaN\n",
              "SK에너지   1625.460126  1547.655582  1293.732067  1565.577095\n",
              "알뜰(ex)  1581.561576  1494.770733  1213.862668  1503.712733\n",
              "알뜰주유소   1580.825277  1501.781838  1243.666785  1528.513597\n",
              "자가상표    1590.233309  1518.950920  1266.634483  1542.280423\n",
              "현대오일뱅크  1600.777986  1528.850142  1284.379155  1559.624500"
            ]
          },
          "metadata": {},
          "execution_count": 95
        }
      ]
    },
    {
      "cell_type": "code",
      "metadata": {
        "colab": {
          "base_uri": "https://localhost:8080/",
          "height": 1000
        },
        "id": "NDVlvPlYyN8h",
        "outputId": "6a118e12-11a4-4688-e17b-8423d1e9f741"
      },
      "source": [
        "brand_price_df = brand_price_df.drop('SK가스')\n",
        "brand_price_df.T.plot(figsize=(10,5))"
      ],
      "execution_count": 96,
      "outputs": [
        {
          "output_type": "execute_result",
          "data": {
            "text/plain": [
              "<matplotlib.axes._subplots.AxesSubplot at 0x7f5a5afd6b90>"
            ]
          },
          "metadata": {},
          "execution_count": 96
        },
        {
          "output_type": "stream",
          "text": [
            "/usr/local/lib/python3.7/dist-packages/matplotlib/backends/backend_agg.py:214: RuntimeWarning: Glyph 52860 missing from current font.\n",
            "  font.set_text(s, 0.0, flags=flags)\n",
            "/usr/local/lib/python3.7/dist-packages/matplotlib/backends/backend_agg.py:214: RuntimeWarning: Glyph 53581 missing from current font.\n",
            "  font.set_text(s, 0.0, flags=flags)\n",
            "/usr/local/lib/python3.7/dist-packages/matplotlib/backends/backend_agg.py:214: RuntimeWarning: Glyph 49828 missing from current font.\n",
            "  font.set_text(s, 0.0, flags=flags)\n",
            "/usr/local/lib/python3.7/dist-packages/matplotlib/backends/backend_agg.py:214: RuntimeWarning: Glyph 50724 missing from current font.\n",
            "  font.set_text(s, 0.0, flags=flags)\n",
            "/usr/local/lib/python3.7/dist-packages/matplotlib/backends/backend_agg.py:214: RuntimeWarning: Glyph 51068 missing from current font.\n",
            "  font.set_text(s, 0.0, flags=flags)\n",
            "/usr/local/lib/python3.7/dist-packages/matplotlib/backends/backend_agg.py:214: RuntimeWarning: Glyph 50640 missing from current font.\n",
            "  font.set_text(s, 0.0, flags=flags)\n",
            "/usr/local/lib/python3.7/dist-packages/matplotlib/backends/backend_agg.py:214: RuntimeWarning: Glyph 45320 missing from current font.\n",
            "  font.set_text(s, 0.0, flags=flags)\n",
            "/usr/local/lib/python3.7/dist-packages/matplotlib/backends/backend_agg.py:214: RuntimeWarning: Glyph 51648 missing from current font.\n",
            "  font.set_text(s, 0.0, flags=flags)\n",
            "/usr/local/lib/python3.7/dist-packages/matplotlib/backends/backend_agg.py:214: RuntimeWarning: Glyph 50508 missing from current font.\n",
            "  font.set_text(s, 0.0, flags=flags)\n",
            "/usr/local/lib/python3.7/dist-packages/matplotlib/backends/backend_agg.py:214: RuntimeWarning: Glyph 46896 missing from current font.\n",
            "  font.set_text(s, 0.0, flags=flags)\n",
            "/usr/local/lib/python3.7/dist-packages/matplotlib/backends/backend_agg.py:214: RuntimeWarning: Glyph 51452 missing from current font.\n",
            "  font.set_text(s, 0.0, flags=flags)\n",
            "/usr/local/lib/python3.7/dist-packages/matplotlib/backends/backend_agg.py:214: RuntimeWarning: Glyph 50976 missing from current font.\n",
            "  font.set_text(s, 0.0, flags=flags)\n",
            "/usr/local/lib/python3.7/dist-packages/matplotlib/backends/backend_agg.py:214: RuntimeWarning: Glyph 49548 missing from current font.\n",
            "  font.set_text(s, 0.0, flags=flags)\n",
            "/usr/local/lib/python3.7/dist-packages/matplotlib/backends/backend_agg.py:214: RuntimeWarning: Glyph 51088 missing from current font.\n",
            "  font.set_text(s, 0.0, flags=flags)\n",
            "/usr/local/lib/python3.7/dist-packages/matplotlib/backends/backend_agg.py:214: RuntimeWarning: Glyph 44032 missing from current font.\n",
            "  font.set_text(s, 0.0, flags=flags)\n",
            "/usr/local/lib/python3.7/dist-packages/matplotlib/backends/backend_agg.py:214: RuntimeWarning: Glyph 49345 missing from current font.\n",
            "  font.set_text(s, 0.0, flags=flags)\n",
            "/usr/local/lib/python3.7/dist-packages/matplotlib/backends/backend_agg.py:214: RuntimeWarning: Glyph 54364 missing from current font.\n",
            "  font.set_text(s, 0.0, flags=flags)\n",
            "/usr/local/lib/python3.7/dist-packages/matplotlib/backends/backend_agg.py:214: RuntimeWarning: Glyph 54788 missing from current font.\n",
            "  font.set_text(s, 0.0, flags=flags)\n",
            "/usr/local/lib/python3.7/dist-packages/matplotlib/backends/backend_agg.py:214: RuntimeWarning: Glyph 45824 missing from current font.\n",
            "  font.set_text(s, 0.0, flags=flags)\n",
            "/usr/local/lib/python3.7/dist-packages/matplotlib/backends/backend_agg.py:214: RuntimeWarning: Glyph 48197 missing from current font.\n",
            "  font.set_text(s, 0.0, flags=flags)\n",
            "/usr/local/lib/python3.7/dist-packages/matplotlib/backends/backend_agg.py:214: RuntimeWarning: Glyph 53356 missing from current font.\n",
            "  font.set_text(s, 0.0, flags=flags)\n",
            "/usr/local/lib/python3.7/dist-packages/matplotlib/backends/backend_agg.py:183: RuntimeWarning: Glyph 52860 missing from current font.\n",
            "  font.set_text(s, 0, flags=flags)\n",
            "/usr/local/lib/python3.7/dist-packages/matplotlib/backends/backend_agg.py:183: RuntimeWarning: Glyph 53581 missing from current font.\n",
            "  font.set_text(s, 0, flags=flags)\n",
            "/usr/local/lib/python3.7/dist-packages/matplotlib/backends/backend_agg.py:183: RuntimeWarning: Glyph 49828 missing from current font.\n",
            "  font.set_text(s, 0, flags=flags)\n",
            "/usr/local/lib/python3.7/dist-packages/matplotlib/backends/backend_agg.py:183: RuntimeWarning: Glyph 50724 missing from current font.\n",
            "  font.set_text(s, 0, flags=flags)\n",
            "/usr/local/lib/python3.7/dist-packages/matplotlib/backends/backend_agg.py:183: RuntimeWarning: Glyph 51068 missing from current font.\n",
            "  font.set_text(s, 0, flags=flags)\n",
            "/usr/local/lib/python3.7/dist-packages/matplotlib/backends/backend_agg.py:183: RuntimeWarning: Glyph 50640 missing from current font.\n",
            "  font.set_text(s, 0, flags=flags)\n",
            "/usr/local/lib/python3.7/dist-packages/matplotlib/backends/backend_agg.py:183: RuntimeWarning: Glyph 45320 missing from current font.\n",
            "  font.set_text(s, 0, flags=flags)\n",
            "/usr/local/lib/python3.7/dist-packages/matplotlib/backends/backend_agg.py:183: RuntimeWarning: Glyph 51648 missing from current font.\n",
            "  font.set_text(s, 0, flags=flags)\n",
            "/usr/local/lib/python3.7/dist-packages/matplotlib/backends/backend_agg.py:183: RuntimeWarning: Glyph 50508 missing from current font.\n",
            "  font.set_text(s, 0, flags=flags)\n",
            "/usr/local/lib/python3.7/dist-packages/matplotlib/backends/backend_agg.py:183: RuntimeWarning: Glyph 46896 missing from current font.\n",
            "  font.set_text(s, 0, flags=flags)\n",
            "/usr/local/lib/python3.7/dist-packages/matplotlib/backends/backend_agg.py:183: RuntimeWarning: Glyph 51452 missing from current font.\n",
            "  font.set_text(s, 0, flags=flags)\n",
            "/usr/local/lib/python3.7/dist-packages/matplotlib/backends/backend_agg.py:183: RuntimeWarning: Glyph 50976 missing from current font.\n",
            "  font.set_text(s, 0, flags=flags)\n",
            "/usr/local/lib/python3.7/dist-packages/matplotlib/backends/backend_agg.py:183: RuntimeWarning: Glyph 49548 missing from current font.\n",
            "  font.set_text(s, 0, flags=flags)\n",
            "/usr/local/lib/python3.7/dist-packages/matplotlib/backends/backend_agg.py:183: RuntimeWarning: Glyph 51088 missing from current font.\n",
            "  font.set_text(s, 0, flags=flags)\n",
            "/usr/local/lib/python3.7/dist-packages/matplotlib/backends/backend_agg.py:183: RuntimeWarning: Glyph 44032 missing from current font.\n",
            "  font.set_text(s, 0, flags=flags)\n",
            "/usr/local/lib/python3.7/dist-packages/matplotlib/backends/backend_agg.py:183: RuntimeWarning: Glyph 49345 missing from current font.\n",
            "  font.set_text(s, 0, flags=flags)\n",
            "/usr/local/lib/python3.7/dist-packages/matplotlib/backends/backend_agg.py:183: RuntimeWarning: Glyph 54364 missing from current font.\n",
            "  font.set_text(s, 0, flags=flags)\n",
            "/usr/local/lib/python3.7/dist-packages/matplotlib/backends/backend_agg.py:183: RuntimeWarning: Glyph 54788 missing from current font.\n",
            "  font.set_text(s, 0, flags=flags)\n",
            "/usr/local/lib/python3.7/dist-packages/matplotlib/backends/backend_agg.py:183: RuntimeWarning: Glyph 45824 missing from current font.\n",
            "  font.set_text(s, 0, flags=flags)\n",
            "/usr/local/lib/python3.7/dist-packages/matplotlib/backends/backend_agg.py:183: RuntimeWarning: Glyph 48197 missing from current font.\n",
            "  font.set_text(s, 0, flags=flags)\n",
            "/usr/local/lib/python3.7/dist-packages/matplotlib/backends/backend_agg.py:183: RuntimeWarning: Glyph 53356 missing from current font.\n",
            "  font.set_text(s, 0, flags=flags)\n"
          ],
          "name": "stderr"
        },
        {
          "output_type": "display_data",
          "data": {
            "image/png": "[encoded data removed]",
            "text/plain": [
              "<Figure size 720x360 with 1 Axes>"
            ]
          },
          "metadata": {}
        }
      ]
    },
    {
      "cell_type": "code",
      "metadata": {
        "id": "PJRyuug2yTZb"
      },
      "source": [
        "#주요 브랜드별 지난 4년간 시장 점유율 Stacked Bar Plot 및 Heatmap"
      ],
      "execution_count": 97,
      "outputs": []
    },
    {
      "cell_type": "code",
      "metadata": {
        "id": "mSE3GrBhyWtJ"
      },
      "source": [
        "brand_share_dict=dict()\n",
        "for year in range(2018,2022):\n",
        "    brand_share_dict[str(year)]=m.groupby(f'상표_{year}').size()"
      ],
      "execution_count": 98,
      "outputs": []
    },
    {
      "cell_type": "code",
      "metadata": {
        "colab": {
          "base_uri": "https://localhost:8080/",
          "height": 359
        },
        "id": "5GMu-MK-yY-u",
        "outputId": "1679a573-bb62-4dec-cd0b-4611fc1b393e"
      },
      "source": [
        "brand_share_df = pd.DataFrame(brand_share_dict)\n",
        "brand_share_df"
      ],
      "execution_count": 99,
      "outputs": [
        {
          "output_type": "execute_result",
          "data": {
            "text/html": [
              "<div>\n",
              "<style scoped>\n",
              "    .dataframe tbody tr th:only-of-type {\n",
              "        vertical-align: middle;\n",
              "    }\n",
              "\n",
              "    .dataframe tbody tr th {\n",
              "        vertical-align: top;\n",
              "    }\n",
              "\n",
              "    .dataframe thead th {\n",
              "        text-align: right;\n",
              "    }\n",
              "</style>\n",
              "<table border=\"1\" class=\"dataframe\">\n",
              "  <thead>\n",
              "    <tr style=\"text-align: right;\">\n",
              "      <th></th>\n",
              "      <th>2018</th>\n",
              "      <th>2019</th>\n",
              "      <th>2020</th>\n",
              "      <th>2021</th>\n",
              "    </tr>\n",
              "  </thead>\n",
              "  <tbody>\n",
              "    <tr>\n",
              "      <th>GS칼텍스</th>\n",
              "      <td>2426.0</td>\n",
              "      <td>2391</td>\n",
              "      <td>2337.0</td>\n",
              "      <td>2295.0</td>\n",
              "    </tr>\n",
              "    <tr>\n",
              "      <th>NC오일</th>\n",
              "      <td>6.0</td>\n",
              "      <td>6</td>\n",
              "      <td>4.0</td>\n",
              "      <td>3.0</td>\n",
              "    </tr>\n",
              "    <tr>\n",
              "      <th>NH-OIL</th>\n",
              "      <td>581.0</td>\n",
              "      <td>597</td>\n",
              "      <td>611.0</td>\n",
              "      <td>632.0</td>\n",
              "    </tr>\n",
              "    <tr>\n",
              "      <th>S-OIL</th>\n",
              "      <td>2094.0</td>\n",
              "      <td>2093</td>\n",
              "      <td>2134.0</td>\n",
              "      <td>2124.0</td>\n",
              "    </tr>\n",
              "    <tr>\n",
              "      <th>SK가스</th>\n",
              "      <td>NaN</td>\n",
              "      <td>1</td>\n",
              "      <td>NaN</td>\n",
              "      <td>NaN</td>\n",
              "    </tr>\n",
              "    <tr>\n",
              "      <th>SK에너지</th>\n",
              "      <td>3474.0</td>\n",
              "      <td>3389</td>\n",
              "      <td>3075.0</td>\n",
              "      <td>2994.0</td>\n",
              "    </tr>\n",
              "    <tr>\n",
              "      <th>알뜰(ex)</th>\n",
              "      <td>174.0</td>\n",
              "      <td>178</td>\n",
              "      <td>181.0</td>\n",
              "      <td>184.0</td>\n",
              "    </tr>\n",
              "    <tr>\n",
              "      <th>알뜰주유소</th>\n",
              "      <td>396.0</td>\n",
              "      <td>387</td>\n",
              "      <td>403.0</td>\n",
              "      <td>415.0</td>\n",
              "    </tr>\n",
              "    <tr>\n",
              "      <th>자가상표</th>\n",
              "      <td>199.0</td>\n",
              "      <td>163</td>\n",
              "      <td>145.0</td>\n",
              "      <td>135.0</td>\n",
              "    </tr>\n",
              "    <tr>\n",
              "      <th>현대오일뱅크</th>\n",
              "      <td>2206.0</td>\n",
              "      <td>2206</td>\n",
              "      <td>2445.0</td>\n",
              "      <td>2393.0</td>\n",
              "    </tr>\n",
              "  </tbody>\n",
              "</table>\n",
              "</div>"
            ],
            "text/plain": [
              "          2018  2019    2020    2021\n",
              "GS칼텍스   2426.0  2391  2337.0  2295.0\n",
              "NC오일       6.0     6     4.0     3.0\n",
              "NH-OIL   581.0   597   611.0   632.0\n",
              "S-OIL   2094.0  2093  2134.0  2124.0\n",
              "SK가스       NaN     1     NaN     NaN\n",
              "SK에너지   3474.0  3389  3075.0  2994.0\n",
              "알뜰(ex)   174.0   178   181.0   184.0\n",
              "알뜰주유소    396.0   387   403.0   415.0\n",
              "자가상표     199.0   163   145.0   135.0\n",
              "현대오일뱅크  2206.0  2206  2445.0  2393.0"
            ]
          },
          "metadata": {},
          "execution_count": 99
        }
      ]
    },
    {
      "cell_type": "code",
      "metadata": {
        "id": "Lm1Zv9ziyZTb"
      },
      "source": [
        "brand_share_df = brand_share_df.drop('SK가스')\n",
        "brand_ratio_df = brand_share_df.apply(lambda x:x/brand_share_df.sum(),axis=1)\n",
        "brand_ratio_df = brand_ratio_df.sort_values('2018',ascending=False)"
      ],
      "execution_count": 100,
      "outputs": []
    },
    {
      "cell_type": "code",
      "metadata": {
        "colab": {
          "base_uri": "https://localhost:8080/",
          "height": 328
        },
        "id": "f_Rs-oVCydRG",
        "outputId": "761440e9-c572-47a0-869d-169c87c4fe20"
      },
      "source": [
        "brand_ratio_df"
      ],
      "execution_count": 101,
      "outputs": [
        {
          "output_type": "execute_result",
          "data": {
            "text/html": [
              "<div>\n",
              "<style scoped>\n",
              "    .dataframe tbody tr th:only-of-type {\n",
              "        vertical-align: middle;\n",
              "    }\n",
              "\n",
              "    .dataframe tbody tr th {\n",
              "        vertical-align: top;\n",
              "    }\n",
              "\n",
              "    .dataframe thead th {\n",
              "        text-align: right;\n",
              "    }\n",
              "</style>\n",
              "<table border=\"1\" class=\"dataframe\">\n",
              "  <thead>\n",
              "    <tr style=\"text-align: right;\">\n",
              "      <th></th>\n",
              "      <th>2018</th>\n",
              "      <th>2019</th>\n",
              "      <th>2020</th>\n",
              "      <th>2021</th>\n",
              "    </tr>\n",
              "  </thead>\n",
              "  <tbody>\n",
              "    <tr>\n",
              "      <th>SK에너지</th>\n",
              "      <td>0.300623</td>\n",
              "      <td>0.297020</td>\n",
              "      <td>0.271284</td>\n",
              "      <td>0.267919</td>\n",
              "    </tr>\n",
              "    <tr>\n",
              "      <th>GS칼텍스</th>\n",
              "      <td>0.209934</td>\n",
              "      <td>0.209553</td>\n",
              "      <td>0.206176</td>\n",
              "      <td>0.205369</td>\n",
              "    </tr>\n",
              "    <tr>\n",
              "      <th>현대오일뱅크</th>\n",
              "      <td>0.190897</td>\n",
              "      <td>0.193339</td>\n",
              "      <td>0.215704</td>\n",
              "      <td>0.214139</td>\n",
              "    </tr>\n",
              "    <tr>\n",
              "      <th>S-OIL</th>\n",
              "      <td>0.181205</td>\n",
              "      <td>0.183436</td>\n",
              "      <td>0.188266</td>\n",
              "      <td>0.190067</td>\n",
              "    </tr>\n",
              "    <tr>\n",
              "      <th>NH-OIL</th>\n",
              "      <td>0.050277</td>\n",
              "      <td>0.052323</td>\n",
              "      <td>0.053904</td>\n",
              "      <td>0.056555</td>\n",
              "    </tr>\n",
              "    <tr>\n",
              "      <th>알뜰주유소</th>\n",
              "      <td>0.034268</td>\n",
              "      <td>0.033918</td>\n",
              "      <td>0.035554</td>\n",
              "      <td>0.037136</td>\n",
              "    </tr>\n",
              "    <tr>\n",
              "      <th>자가상표</th>\n",
              "      <td>0.017220</td>\n",
              "      <td>0.014286</td>\n",
              "      <td>0.012792</td>\n",
              "      <td>0.012081</td>\n",
              "    </tr>\n",
              "    <tr>\n",
              "      <th>알뜰(ex)</th>\n",
              "      <td>0.015057</td>\n",
              "      <td>0.015600</td>\n",
              "      <td>0.015968</td>\n",
              "      <td>0.016465</td>\n",
              "    </tr>\n",
              "    <tr>\n",
              "      <th>NC오일</th>\n",
              "      <td>0.000519</td>\n",
              "      <td>0.000526</td>\n",
              "      <td>0.000353</td>\n",
              "      <td>0.000268</td>\n",
              "    </tr>\n",
              "  </tbody>\n",
              "</table>\n",
              "</div>"
            ],
            "text/plain": [
              "            2018      2019      2020      2021\n",
              "SK에너지   0.300623  0.297020  0.271284  0.267919\n",
              "GS칼텍스   0.209934  0.209553  0.206176  0.205369\n",
              "현대오일뱅크  0.190897  0.193339  0.215704  0.214139\n",
              "S-OIL   0.181205  0.183436  0.188266  0.190067\n",
              "NH-OIL  0.050277  0.052323  0.053904  0.056555\n",
              "알뜰주유소   0.034268  0.033918  0.035554  0.037136\n",
              "자가상표    0.017220  0.014286  0.012792  0.012081\n",
              "알뜰(ex)  0.015057  0.015600  0.015968  0.016465\n",
              "NC오일    0.000519  0.000526  0.000353  0.000268"
            ]
          },
          "metadata": {},
          "execution_count": 101
        }
      ]
    },
    {
      "cell_type": "code",
      "metadata": {
        "colab": {
          "base_uri": "https://localhost:8080/",
          "height": 1000
        },
        "id": "Os-xKpnBydlj",
        "outputId": "52bf76f1-e9f1-4fc8-e174-bb8c6196d850"
      },
      "source": [
        "brand_ratio_df.T.plot(kind='bar',stacked=True,rot=0,figsize=(10,5))\n",
        "plt.legend(bbox_to_anchor=(1, 1))"
      ],
      "execution_count": 102,
      "outputs": [
        {
          "output_type": "execute_result",
          "data": {
            "text/plain": [
              "<matplotlib.legend.Legend at 0x7f5a5ae63b10>"
            ]
          },
          "metadata": {},
          "execution_count": 102
        },
        {
          "output_type": "stream",
          "text": [
            "/usr/local/lib/python3.7/dist-packages/matplotlib/backends/backend_agg.py:214: RuntimeWarning: Glyph 50640 missing from current font.\n",
            "  font.set_text(s, 0.0, flags=flags)\n",
            "/usr/local/lib/python3.7/dist-packages/matplotlib/backends/backend_agg.py:214: RuntimeWarning: Glyph 45320 missing from current font.\n",
            "  font.set_text(s, 0.0, flags=flags)\n",
            "/usr/local/lib/python3.7/dist-packages/matplotlib/backends/backend_agg.py:214: RuntimeWarning: Glyph 51648 missing from current font.\n",
            "  font.set_text(s, 0.0, flags=flags)\n",
            "/usr/local/lib/python3.7/dist-packages/matplotlib/backends/backend_agg.py:214: RuntimeWarning: Glyph 52860 missing from current font.\n",
            "  font.set_text(s, 0.0, flags=flags)\n",
            "/usr/local/lib/python3.7/dist-packages/matplotlib/backends/backend_agg.py:214: RuntimeWarning: Glyph 53581 missing from current font.\n",
            "  font.set_text(s, 0.0, flags=flags)\n",
            "/usr/local/lib/python3.7/dist-packages/matplotlib/backends/backend_agg.py:214: RuntimeWarning: Glyph 49828 missing from current font.\n",
            "  font.set_text(s, 0.0, flags=flags)\n",
            "/usr/local/lib/python3.7/dist-packages/matplotlib/backends/backend_agg.py:214: RuntimeWarning: Glyph 54788 missing from current font.\n",
            "  font.set_text(s, 0.0, flags=flags)\n",
            "/usr/local/lib/python3.7/dist-packages/matplotlib/backends/backend_agg.py:214: RuntimeWarning: Glyph 45824 missing from current font.\n",
            "  font.set_text(s, 0.0, flags=flags)\n",
            "/usr/local/lib/python3.7/dist-packages/matplotlib/backends/backend_agg.py:214: RuntimeWarning: Glyph 50724 missing from current font.\n",
            "  font.set_text(s, 0.0, flags=flags)\n",
            "/usr/local/lib/python3.7/dist-packages/matplotlib/backends/backend_agg.py:214: RuntimeWarning: Glyph 51068 missing from current font.\n",
            "  font.set_text(s, 0.0, flags=flags)\n",
            "/usr/local/lib/python3.7/dist-packages/matplotlib/backends/backend_agg.py:214: RuntimeWarning: Glyph 48197 missing from current font.\n",
            "  font.set_text(s, 0.0, flags=flags)\n",
            "/usr/local/lib/python3.7/dist-packages/matplotlib/backends/backend_agg.py:214: RuntimeWarning: Glyph 53356 missing from current font.\n",
            "  font.set_text(s, 0.0, flags=flags)\n",
            "/usr/local/lib/python3.7/dist-packages/matplotlib/backends/backend_agg.py:214: RuntimeWarning: Glyph 50508 missing from current font.\n",
            "  font.set_text(s, 0.0, flags=flags)\n",
            "/usr/local/lib/python3.7/dist-packages/matplotlib/backends/backend_agg.py:214: RuntimeWarning: Glyph 46896 missing from current font.\n",
            "  font.set_text(s, 0.0, flags=flags)\n",
            "/usr/local/lib/python3.7/dist-packages/matplotlib/backends/backend_agg.py:214: RuntimeWarning: Glyph 51452 missing from current font.\n",
            "  font.set_text(s, 0.0, flags=flags)\n",
            "/usr/local/lib/python3.7/dist-packages/matplotlib/backends/backend_agg.py:214: RuntimeWarning: Glyph 50976 missing from current font.\n",
            "  font.set_text(s, 0.0, flags=flags)\n",
            "/usr/local/lib/python3.7/dist-packages/matplotlib/backends/backend_agg.py:214: RuntimeWarning: Glyph 49548 missing from current font.\n",
            "  font.set_text(s, 0.0, flags=flags)\n",
            "/usr/local/lib/python3.7/dist-packages/matplotlib/backends/backend_agg.py:214: RuntimeWarning: Glyph 51088 missing from current font.\n",
            "  font.set_text(s, 0.0, flags=flags)\n",
            "/usr/local/lib/python3.7/dist-packages/matplotlib/backends/backend_agg.py:214: RuntimeWarning: Glyph 44032 missing from current font.\n",
            "  font.set_text(s, 0.0, flags=flags)\n",
            "/usr/local/lib/python3.7/dist-packages/matplotlib/backends/backend_agg.py:214: RuntimeWarning: Glyph 49345 missing from current font.\n",
            "  font.set_text(s, 0.0, flags=flags)\n",
            "/usr/local/lib/python3.7/dist-packages/matplotlib/backends/backend_agg.py:214: RuntimeWarning: Glyph 54364 missing from current font.\n",
            "  font.set_text(s, 0.0, flags=flags)\n",
            "/usr/local/lib/python3.7/dist-packages/matplotlib/backends/backend_agg.py:183: RuntimeWarning: Glyph 50640 missing from current font.\n",
            "  font.set_text(s, 0, flags=flags)\n",
            "/usr/local/lib/python3.7/dist-packages/matplotlib/backends/backend_agg.py:183: RuntimeWarning: Glyph 45320 missing from current font.\n",
            "  font.set_text(s, 0, flags=flags)\n",
            "/usr/local/lib/python3.7/dist-packages/matplotlib/backends/backend_agg.py:183: RuntimeWarning: Glyph 51648 missing from current font.\n",
            "  font.set_text(s, 0, flags=flags)\n",
            "/usr/local/lib/python3.7/dist-packages/matplotlib/backends/backend_agg.py:183: RuntimeWarning: Glyph 52860 missing from current font.\n",
            "  font.set_text(s, 0, flags=flags)\n",
            "/usr/local/lib/python3.7/dist-packages/matplotlib/backends/backend_agg.py:183: RuntimeWarning: Glyph 53581 missing from current font.\n",
            "  font.set_text(s, 0, flags=flags)\n",
            "/usr/local/lib/python3.7/dist-packages/matplotlib/backends/backend_agg.py:183: RuntimeWarning: Glyph 49828 missing from current font.\n",
            "  font.set_text(s, 0, flags=flags)\n",
            "/usr/local/lib/python3.7/dist-packages/matplotlib/backends/backend_agg.py:183: RuntimeWarning: Glyph 54788 missing from current font.\n",
            "  font.set_text(s, 0, flags=flags)\n",
            "/usr/local/lib/python3.7/dist-packages/matplotlib/backends/backend_agg.py:183: RuntimeWarning: Glyph 45824 missing from current font.\n",
            "  font.set_text(s, 0, flags=flags)\n",
            "/usr/local/lib/python3.7/dist-packages/matplotlib/backends/backend_agg.py:183: RuntimeWarning: Glyph 50724 missing from current font.\n",
            "  font.set_text(s, 0, flags=flags)\n",
            "/usr/local/lib/python3.7/dist-packages/matplotlib/backends/backend_agg.py:183: RuntimeWarning: Glyph 51068 missing from current font.\n",
            "  font.set_text(s, 0, flags=flags)\n",
            "/usr/local/lib/python3.7/dist-packages/matplotlib/backends/backend_agg.py:183: RuntimeWarning: Glyph 48197 missing from current font.\n",
            "  font.set_text(s, 0, flags=flags)\n",
            "/usr/local/lib/python3.7/dist-packages/matplotlib/backends/backend_agg.py:183: RuntimeWarning: Glyph 53356 missing from current font.\n",
            "  font.set_text(s, 0, flags=flags)\n",
            "/usr/local/lib/python3.7/dist-packages/matplotlib/backends/backend_agg.py:183: RuntimeWarning: Glyph 50508 missing from current font.\n",
            "  font.set_text(s, 0, flags=flags)\n",
            "/usr/local/lib/python3.7/dist-packages/matplotlib/backends/backend_agg.py:183: RuntimeWarning: Glyph 46896 missing from current font.\n",
            "  font.set_text(s, 0, flags=flags)\n",
            "/usr/local/lib/python3.7/dist-packages/matplotlib/backends/backend_agg.py:183: RuntimeWarning: Glyph 51452 missing from current font.\n",
            "  font.set_text(s, 0, flags=flags)\n",
            "/usr/local/lib/python3.7/dist-packages/matplotlib/backends/backend_agg.py:183: RuntimeWarning: Glyph 50976 missing from current font.\n",
            "  font.set_text(s, 0, flags=flags)\n",
            "/usr/local/lib/python3.7/dist-packages/matplotlib/backends/backend_agg.py:183: RuntimeWarning: Glyph 49548 missing from current font.\n",
            "  font.set_text(s, 0, flags=flags)\n",
            "/usr/local/lib/python3.7/dist-packages/matplotlib/backends/backend_agg.py:183: RuntimeWarning: Glyph 51088 missing from current font.\n",
            "  font.set_text(s, 0, flags=flags)\n",
            "/usr/local/lib/python3.7/dist-packages/matplotlib/backends/backend_agg.py:183: RuntimeWarning: Glyph 44032 missing from current font.\n",
            "  font.set_text(s, 0, flags=flags)\n",
            "/usr/local/lib/python3.7/dist-packages/matplotlib/backends/backend_agg.py:183: RuntimeWarning: Glyph 49345 missing from current font.\n",
            "  font.set_text(s, 0, flags=flags)\n",
            "/usr/local/lib/python3.7/dist-packages/matplotlib/backends/backend_agg.py:183: RuntimeWarning: Glyph 54364 missing from current font.\n",
            "  font.set_text(s, 0, flags=flags)\n"
          ],
          "name": "stderr"
        },
        {
          "output_type": "display_data",
          "data": {
            "image/png": "[encoded data removed]",
            "text/plain": [
              "<Figure size 720x360 with 1 Axes>"
            ]
          },
          "metadata": {}
        }
      ]
    },
    {
      "cell_type": "code",
      "metadata": {
        "colab": {
          "base_uri": "https://localhost:8080/",
          "height": 1000
        },
        "id": "GaOxMjxkyiQF",
        "outputId": "81784e68-787e-4c39-f21a-8c1403ef9b43"
      },
      "source": [
        "plt.figure(figsize=(10,5))\n",
        "sns.heatmap(brand_ratio_df, cmap= 'RdBu_r', linewidths=1, linecolor='black',annot=True)"
      ],
      "execution_count": 103,
      "outputs": [
        {
          "output_type": "stream",
          "text": [
            "/usr/local/lib/python3.7/dist-packages/matplotlib/backends/backend_agg.py:214: RuntimeWarning: Glyph 50640 missing from current font.\n",
            "  font.set_text(s, 0.0, flags=flags)\n",
            "/usr/local/lib/python3.7/dist-packages/matplotlib/backends/backend_agg.py:214: RuntimeWarning: Glyph 45320 missing from current font.\n",
            "  font.set_text(s, 0.0, flags=flags)\n",
            "/usr/local/lib/python3.7/dist-packages/matplotlib/backends/backend_agg.py:214: RuntimeWarning: Glyph 51648 missing from current font.\n",
            "  font.set_text(s, 0.0, flags=flags)\n",
            "/usr/local/lib/python3.7/dist-packages/matplotlib/backends/backend_agg.py:214: RuntimeWarning: Glyph 52860 missing from current font.\n",
            "  font.set_text(s, 0.0, flags=flags)\n",
            "/usr/local/lib/python3.7/dist-packages/matplotlib/backends/backend_agg.py:214: RuntimeWarning: Glyph 53581 missing from current font.\n",
            "  font.set_text(s, 0.0, flags=flags)\n",
            "/usr/local/lib/python3.7/dist-packages/matplotlib/backends/backend_agg.py:214: RuntimeWarning: Glyph 49828 missing from current font.\n",
            "  font.set_text(s, 0.0, flags=flags)\n",
            "/usr/local/lib/python3.7/dist-packages/matplotlib/backends/backend_agg.py:214: RuntimeWarning: Glyph 54788 missing from current font.\n",
            "  font.set_text(s, 0.0, flags=flags)\n",
            "/usr/local/lib/python3.7/dist-packages/matplotlib/backends/backend_agg.py:214: RuntimeWarning: Glyph 45824 missing from current font.\n",
            "  font.set_text(s, 0.0, flags=flags)\n",
            "/usr/local/lib/python3.7/dist-packages/matplotlib/backends/backend_agg.py:214: RuntimeWarning: Glyph 50724 missing from current font.\n",
            "  font.set_text(s, 0.0, flags=flags)\n",
            "/usr/local/lib/python3.7/dist-packages/matplotlib/backends/backend_agg.py:214: RuntimeWarning: Glyph 51068 missing from current font.\n",
            "  font.set_text(s, 0.0, flags=flags)\n",
            "/usr/local/lib/python3.7/dist-packages/matplotlib/backends/backend_agg.py:214: RuntimeWarning: Glyph 48197 missing from current font.\n",
            "  font.set_text(s, 0.0, flags=flags)\n",
            "/usr/local/lib/python3.7/dist-packages/matplotlib/backends/backend_agg.py:214: RuntimeWarning: Glyph 53356 missing from current font.\n",
            "  font.set_text(s, 0.0, flags=flags)\n",
            "/usr/local/lib/python3.7/dist-packages/matplotlib/backends/backend_agg.py:214: RuntimeWarning: Glyph 50508 missing from current font.\n",
            "  font.set_text(s, 0.0, flags=flags)\n",
            "/usr/local/lib/python3.7/dist-packages/matplotlib/backends/backend_agg.py:214: RuntimeWarning: Glyph 46896 missing from current font.\n",
            "  font.set_text(s, 0.0, flags=flags)\n",
            "/usr/local/lib/python3.7/dist-packages/matplotlib/backends/backend_agg.py:214: RuntimeWarning: Glyph 51452 missing from current font.\n",
            "  font.set_text(s, 0.0, flags=flags)\n",
            "/usr/local/lib/python3.7/dist-packages/matplotlib/backends/backend_agg.py:214: RuntimeWarning: Glyph 50976 missing from current font.\n",
            "  font.set_text(s, 0.0, flags=flags)\n",
            "/usr/local/lib/python3.7/dist-packages/matplotlib/backends/backend_agg.py:214: RuntimeWarning: Glyph 49548 missing from current font.\n",
            "  font.set_text(s, 0.0, flags=flags)\n",
            "/usr/local/lib/python3.7/dist-packages/matplotlib/backends/backend_agg.py:214: RuntimeWarning: Glyph 51088 missing from current font.\n",
            "  font.set_text(s, 0.0, flags=flags)\n",
            "/usr/local/lib/python3.7/dist-packages/matplotlib/backends/backend_agg.py:214: RuntimeWarning: Glyph 44032 missing from current font.\n",
            "  font.set_text(s, 0.0, flags=flags)\n",
            "/usr/local/lib/python3.7/dist-packages/matplotlib/backends/backend_agg.py:214: RuntimeWarning: Glyph 49345 missing from current font.\n",
            "  font.set_text(s, 0.0, flags=flags)\n",
            "/usr/local/lib/python3.7/dist-packages/matplotlib/backends/backend_agg.py:214: RuntimeWarning: Glyph 54364 missing from current font.\n",
            "  font.set_text(s, 0.0, flags=flags)\n",
            "/usr/local/lib/python3.7/dist-packages/matplotlib/backends/backend_agg.py:183: RuntimeWarning: Glyph 50640 missing from current font.\n",
            "  font.set_text(s, 0, flags=flags)\n",
            "/usr/local/lib/python3.7/dist-packages/matplotlib/backends/backend_agg.py:183: RuntimeWarning: Glyph 45320 missing from current font.\n",
            "  font.set_text(s, 0, flags=flags)\n",
            "/usr/local/lib/python3.7/dist-packages/matplotlib/backends/backend_agg.py:183: RuntimeWarning: Glyph 51648 missing from current font.\n",
            "  font.set_text(s, 0, flags=flags)\n",
            "/usr/local/lib/python3.7/dist-packages/matplotlib/backends/backend_agg.py:183: RuntimeWarning: Glyph 52860 missing from current font.\n",
            "  font.set_text(s, 0, flags=flags)\n",
            "/usr/local/lib/python3.7/dist-packages/matplotlib/backends/backend_agg.py:183: RuntimeWarning: Glyph 53581 missing from current font.\n",
            "  font.set_text(s, 0, flags=flags)\n",
            "/usr/local/lib/python3.7/dist-packages/matplotlib/backends/backend_agg.py:183: RuntimeWarning: Glyph 49828 missing from current font.\n",
            "  font.set_text(s, 0, flags=flags)\n",
            "/usr/local/lib/python3.7/dist-packages/matplotlib/backends/backend_agg.py:183: RuntimeWarning: Glyph 54788 missing from current font.\n",
            "  font.set_text(s, 0, flags=flags)\n",
            "/usr/local/lib/python3.7/dist-packages/matplotlib/backends/backend_agg.py:183: RuntimeWarning: Glyph 45824 missing from current font.\n",
            "  font.set_text(s, 0, flags=flags)\n",
            "/usr/local/lib/python3.7/dist-packages/matplotlib/backends/backend_agg.py:183: RuntimeWarning: Glyph 50724 missing from current font.\n",
            "  font.set_text(s, 0, flags=flags)\n",
            "/usr/local/lib/python3.7/dist-packages/matplotlib/backends/backend_agg.py:183: RuntimeWarning: Glyph 51068 missing from current font.\n",
            "  font.set_text(s, 0, flags=flags)\n",
            "/usr/local/lib/python3.7/dist-packages/matplotlib/backends/backend_agg.py:183: RuntimeWarning: Glyph 48197 missing from current font.\n",
            "  font.set_text(s, 0, flags=flags)\n",
            "/usr/local/lib/python3.7/dist-packages/matplotlib/backends/backend_agg.py:183: RuntimeWarning: Glyph 53356 missing from current font.\n",
            "  font.set_text(s, 0, flags=flags)\n",
            "/usr/local/lib/python3.7/dist-packages/matplotlib/backends/backend_agg.py:183: RuntimeWarning: Glyph 50508 missing from current font.\n",
            "  font.set_text(s, 0, flags=flags)\n",
            "/usr/local/lib/python3.7/dist-packages/matplotlib/backends/backend_agg.py:183: RuntimeWarning: Glyph 46896 missing from current font.\n",
            "  font.set_text(s, 0, flags=flags)\n",
            "/usr/local/lib/python3.7/dist-packages/matplotlib/backends/backend_agg.py:183: RuntimeWarning: Glyph 51452 missing from current font.\n",
            "  font.set_text(s, 0, flags=flags)\n",
            "/usr/local/lib/python3.7/dist-packages/matplotlib/backends/backend_agg.py:183: RuntimeWarning: Glyph 50976 missing from current font.\n",
            "  font.set_text(s, 0, flags=flags)\n",
            "/usr/local/lib/python3.7/dist-packages/matplotlib/backends/backend_agg.py:183: RuntimeWarning: Glyph 49548 missing from current font.\n",
            "  font.set_text(s, 0, flags=flags)\n",
            "/usr/local/lib/python3.7/dist-packages/matplotlib/backends/backend_agg.py:183: RuntimeWarning: Glyph 51088 missing from current font.\n",
            "  font.set_text(s, 0, flags=flags)\n",
            "/usr/local/lib/python3.7/dist-packages/matplotlib/backends/backend_agg.py:183: RuntimeWarning: Glyph 44032 missing from current font.\n",
            "  font.set_text(s, 0, flags=flags)\n",
            "/usr/local/lib/python3.7/dist-packages/matplotlib/backends/backend_agg.py:183: RuntimeWarning: Glyph 49345 missing from current font.\n",
            "  font.set_text(s, 0, flags=flags)\n",
            "/usr/local/lib/python3.7/dist-packages/matplotlib/backends/backend_agg.py:183: RuntimeWarning: Glyph 54364 missing from current font.\n",
            "  font.set_text(s, 0, flags=flags)\n"
          ],
          "name": "stderr"
        },
        {
          "output_type": "execute_result",
          "data": {
            "text/plain": [
              "<matplotlib.axes._subplots.AxesSubplot at 0x7f5a5ae10310>"
            ]
          },
          "metadata": {},
          "execution_count": 103
        },
        {
          "output_type": "display_data",
          "data": {
            "image/png": "[encoded data removed]",
            "text/plain": [
              "<Figure size 720x360 with 2 Axes>"
            ]
          },
          "metadata": {}
        }
      ]
    },
    {
      "cell_type": "code",
      "metadata": {
        "colab": {
          "base_uri": "https://localhost:8080/"
        },
        "id": "hm-9l2ROylcX",
        "outputId": "0efaed0a-7e91-4a8a-a5a9-1f91789f033f"
      },
      "source": [
        "#2019년 주유소를 셀프 및 일반 주유소로 구분하고 일반 주유소가 차지하는 비율\n",
        "self_share_dict = m.loc[~m['상표_2019'].isna()].groupby('셀프여부').size()\n",
        "self_ratio_dict = self_share_dict/self_share_dict.sum()\n",
        "self_ratio_dict\n"
      ],
      "execution_count": 106,
      "outputs": [
        {
          "output_type": "execute_result",
          "data": {
            "text/plain": [
              "셀프여부\n",
              "셀프    0.399001\n",
              "일반    0.600999\n",
              "dtype: float64"
            ]
          },
          "metadata": {},
          "execution_count": 106
        }
      ]
    },
    {
      "cell_type": "markdown",
      "metadata": {
        "id": "isIuSOYPy1oC"
      },
      "source": [
        "# **가격** 분석: 주유소 및 지역 별 가격 편차 분석"
      ]
    },
    {
      "cell_type": "code",
      "metadata": {
        "colab": {
          "base_uri": "https://localhost:8080/",
          "height": 504
        },
        "id": "ajnmD18Ky0i5",
        "outputId": "f3300e3e-f2e1-4775-bc81-e4fed474b32f"
      },
      "source": [
        "sns.boxplot(x=m['휘발유_2021'])"
      ],
      "execution_count": 110,
      "outputs": [
        {
          "output_type": "execute_result",
          "data": {
            "text/plain": [
              "<matplotlib.axes._subplots.AxesSubplot at 0x7f5a5ae0e510>"
            ]
          },
          "metadata": {},
          "execution_count": 110
        },
        {
          "output_type": "stream",
          "text": [
            "/usr/local/lib/python3.7/dist-packages/matplotlib/backends/backend_agg.py:214: RuntimeWarning: Glyph 55064 missing from current font.\n",
            "  font.set_text(s, 0.0, flags=flags)\n",
            "/usr/local/lib/python3.7/dist-packages/matplotlib/backends/backend_agg.py:214: RuntimeWarning: Glyph 48156 missing from current font.\n",
            "  font.set_text(s, 0.0, flags=flags)\n",
            "/usr/local/lib/python3.7/dist-packages/matplotlib/backends/backend_agg.py:214: RuntimeWarning: Glyph 50976 missing from current font.\n",
            "  font.set_text(s, 0.0, flags=flags)\n",
            "/usr/local/lib/python3.7/dist-packages/matplotlib/backends/backend_agg.py:183: RuntimeWarning: Glyph 55064 missing from current font.\n",
            "  font.set_text(s, 0, flags=flags)\n",
            "/usr/local/lib/python3.7/dist-packages/matplotlib/backends/backend_agg.py:183: RuntimeWarning: Glyph 48156 missing from current font.\n",
            "  font.set_text(s, 0, flags=flags)\n",
            "/usr/local/lib/python3.7/dist-packages/matplotlib/backends/backend_agg.py:183: RuntimeWarning: Glyph 50976 missing from current font.\n",
            "  font.set_text(s, 0, flags=flags)\n"
          ],
          "name": "stderr"
        },
        {
          "output_type": "display_data",
          "data": {
            "image/png": "[encoded data removed]",
            "text/plain": [
              "<Figure size 432x288 with 1 Axes>"
            ]
          },
          "metadata": {}
        }
      ]
    },
    {
      "cell_type": "markdown",
      "metadata": {
        "id": "5Ckl1oAbzwyi"
      },
      "source": [
        "[Boxplot](https://towardsdatascience.com/understanding-boxplots-5e2df7bcbd51)"
      ]
    },
    {
      "cell_type": "code",
      "metadata": {
        "colab": {
          "base_uri": "https://localhost:8080/",
          "height": 1000
        },
        "id": "mTmblj9mzqtN",
        "outputId": "52b4bf49-348d-430b-abe1-e8cab5bc6494"
      },
      "source": [
        "#지역별 가격 분포 Boxplot (Multiple Columns)\n",
        "boxplot_order = m.groupby('지역2')['휘발유_2021'].median().sort_values(ascending=False).index\n",
        "plt.figure(figsize=(15,7))\n",
        "sns.boxplot(x=\"지역2\", y=\"휘발유_2021\", data=m, orient=\"v\", order=boxplot_order)"
      ],
      "execution_count": 111,
      "outputs": [
        {
          "output_type": "execute_result",
          "data": {
            "text/plain": [
              "<matplotlib.axes._subplots.AxesSubplot at 0x7f5a5ae8b1d0>"
            ]
          },
          "metadata": {},
          "execution_count": 111
        },
        {
          "output_type": "stream",
          "text": [
            "/usr/local/lib/python3.7/dist-packages/matplotlib/backends/backend_agg.py:214: RuntimeWarning: Glyph 49436 missing from current font.\n",
            "  font.set_text(s, 0.0, flags=flags)\n",
            "/usr/local/lib/python3.7/dist-packages/matplotlib/backends/backend_agg.py:214: RuntimeWarning: Glyph 50872 missing from current font.\n",
            "  font.set_text(s, 0.0, flags=flags)\n",
            "/usr/local/lib/python3.7/dist-packages/matplotlib/backends/backend_agg.py:214: RuntimeWarning: Glyph 51228 missing from current font.\n",
            "  font.set_text(s, 0.0, flags=flags)\n",
            "/usr/local/lib/python3.7/dist-packages/matplotlib/backends/backend_agg.py:214: RuntimeWarning: Glyph 51452 missing from current font.\n",
            "  font.set_text(s, 0.0, flags=flags)\n",
            "/usr/local/lib/python3.7/dist-packages/matplotlib/backends/backend_agg.py:214: RuntimeWarning: Glyph 44053 missing from current font.\n",
            "  font.set_text(s, 0.0, flags=flags)\n",
            "/usr/local/lib/python3.7/dist-packages/matplotlib/backends/backend_agg.py:214: RuntimeWarning: Glyph 50896 missing from current font.\n",
            "  font.set_text(s, 0.0, flags=flags)\n",
            "/usr/local/lib/python3.7/dist-packages/matplotlib/backends/backend_agg.py:214: RuntimeWarning: Glyph 52649 missing from current font.\n",
            "  font.set_text(s, 0.0, flags=flags)\n",
            "/usr/local/lib/python3.7/dist-packages/matplotlib/backends/backend_agg.py:214: RuntimeWarning: Glyph 45224 missing from current font.\n",
            "  font.set_text(s, 0.0, flags=flags)\n",
            "/usr/local/lib/python3.7/dist-packages/matplotlib/backends/backend_agg.py:214: RuntimeWarning: Glyph 48513 missing from current font.\n",
            "  font.set_text(s, 0.0, flags=flags)\n",
            "/usr/local/lib/python3.7/dist-packages/matplotlib/backends/backend_agg.py:214: RuntimeWarning: Glyph 44221 missing from current font.\n",
            "  font.set_text(s, 0.0, flags=flags)\n",
            "/usr/local/lib/python3.7/dist-packages/matplotlib/backends/backend_agg.py:214: RuntimeWarning: Glyph 44592 missing from current font.\n",
            "  font.set_text(s, 0.0, flags=flags)\n",
            "/usr/local/lib/python3.7/dist-packages/matplotlib/backends/backend_agg.py:214: RuntimeWarning: Glyph 51204 missing from current font.\n",
            "  font.set_text(s, 0.0, flags=flags)\n",
            "/usr/local/lib/python3.7/dist-packages/matplotlib/backends/backend_agg.py:214: RuntimeWarning: Glyph 45824 missing from current font.\n",
            "  font.set_text(s, 0.0, flags=flags)\n",
            "/usr/local/lib/python3.7/dist-packages/matplotlib/backends/backend_agg.py:214: RuntimeWarning: Glyph 49464 missing from current font.\n",
            "  font.set_text(s, 0.0, flags=flags)\n",
            "/usr/local/lib/python3.7/dist-packages/matplotlib/backends/backend_agg.py:214: RuntimeWarning: Glyph 51333 missing from current font.\n",
            "  font.set_text(s, 0.0, flags=flags)\n",
            "/usr/local/lib/python3.7/dist-packages/matplotlib/backends/backend_agg.py:214: RuntimeWarning: Glyph 49884 missing from current font.\n",
            "  font.set_text(s, 0.0, flags=flags)\n",
            "/usr/local/lib/python3.7/dist-packages/matplotlib/backends/backend_agg.py:214: RuntimeWarning: Glyph 44305 missing from current font.\n",
            "  font.set_text(s, 0.0, flags=flags)\n",
            "/usr/local/lib/python3.7/dist-packages/matplotlib/backends/backend_agg.py:214: RuntimeWarning: Glyph 51064 missing from current font.\n",
            "  font.set_text(s, 0.0, flags=flags)\n",
            "/usr/local/lib/python3.7/dist-packages/matplotlib/backends/backend_agg.py:214: RuntimeWarning: Glyph 52380 missing from current font.\n",
            "  font.set_text(s, 0.0, flags=flags)\n",
            "/usr/local/lib/python3.7/dist-packages/matplotlib/backends/backend_agg.py:214: RuntimeWarning: Glyph 49328 missing from current font.\n",
            "  font.set_text(s, 0.0, flags=flags)\n",
            "/usr/local/lib/python3.7/dist-packages/matplotlib/backends/backend_agg.py:214: RuntimeWarning: Glyph 48512 missing from current font.\n",
            "  font.set_text(s, 0.0, flags=flags)\n",
            "/usr/local/lib/python3.7/dist-packages/matplotlib/backends/backend_agg.py:214: RuntimeWarning: Glyph 44396 missing from current font.\n",
            "  font.set_text(s, 0.0, flags=flags)\n",
            "/usr/local/lib/python3.7/dist-packages/matplotlib/backends/backend_agg.py:214: RuntimeWarning: Glyph 51648 missing from current font.\n",
            "  font.set_text(s, 0.0, flags=flags)\n",
            "/usr/local/lib/python3.7/dist-packages/matplotlib/backends/backend_agg.py:214: RuntimeWarning: Glyph 50669 missing from current font.\n",
            "  font.set_text(s, 0.0, flags=flags)\n",
            "/usr/local/lib/python3.7/dist-packages/matplotlib/backends/backend_agg.py:183: RuntimeWarning: Glyph 49436 missing from current font.\n",
            "  font.set_text(s, 0, flags=flags)\n",
            "/usr/local/lib/python3.7/dist-packages/matplotlib/backends/backend_agg.py:183: RuntimeWarning: Glyph 50872 missing from current font.\n",
            "  font.set_text(s, 0, flags=flags)\n",
            "/usr/local/lib/python3.7/dist-packages/matplotlib/backends/backend_agg.py:183: RuntimeWarning: Glyph 51228 missing from current font.\n",
            "  font.set_text(s, 0, flags=flags)\n",
            "/usr/local/lib/python3.7/dist-packages/matplotlib/backends/backend_agg.py:183: RuntimeWarning: Glyph 51452 missing from current font.\n",
            "  font.set_text(s, 0, flags=flags)\n",
            "/usr/local/lib/python3.7/dist-packages/matplotlib/backends/backend_agg.py:183: RuntimeWarning: Glyph 44053 missing from current font.\n",
            "  font.set_text(s, 0, flags=flags)\n",
            "/usr/local/lib/python3.7/dist-packages/matplotlib/backends/backend_agg.py:183: RuntimeWarning: Glyph 50896 missing from current font.\n",
            "  font.set_text(s, 0, flags=flags)\n",
            "/usr/local/lib/python3.7/dist-packages/matplotlib/backends/backend_agg.py:183: RuntimeWarning: Glyph 52649 missing from current font.\n",
            "  font.set_text(s, 0, flags=flags)\n",
            "/usr/local/lib/python3.7/dist-packages/matplotlib/backends/backend_agg.py:183: RuntimeWarning: Glyph 45224 missing from current font.\n",
            "  font.set_text(s, 0, flags=flags)\n",
            "/usr/local/lib/python3.7/dist-packages/matplotlib/backends/backend_agg.py:183: RuntimeWarning: Glyph 48513 missing from current font.\n",
            "  font.set_text(s, 0, flags=flags)\n",
            "/usr/local/lib/python3.7/dist-packages/matplotlib/backends/backend_agg.py:183: RuntimeWarning: Glyph 44221 missing from current font.\n",
            "  font.set_text(s, 0, flags=flags)\n",
            "/usr/local/lib/python3.7/dist-packages/matplotlib/backends/backend_agg.py:183: RuntimeWarning: Glyph 44592 missing from current font.\n",
            "  font.set_text(s, 0, flags=flags)\n",
            "/usr/local/lib/python3.7/dist-packages/matplotlib/backends/backend_agg.py:183: RuntimeWarning: Glyph 51204 missing from current font.\n",
            "  font.set_text(s, 0, flags=flags)\n",
            "/usr/local/lib/python3.7/dist-packages/matplotlib/backends/backend_agg.py:183: RuntimeWarning: Glyph 45824 missing from current font.\n",
            "  font.set_text(s, 0, flags=flags)\n",
            "/usr/local/lib/python3.7/dist-packages/matplotlib/backends/backend_agg.py:183: RuntimeWarning: Glyph 49464 missing from current font.\n",
            "  font.set_text(s, 0, flags=flags)\n",
            "/usr/local/lib/python3.7/dist-packages/matplotlib/backends/backend_agg.py:183: RuntimeWarning: Glyph 51333 missing from current font.\n",
            "  font.set_text(s, 0, flags=flags)\n",
            "/usr/local/lib/python3.7/dist-packages/matplotlib/backends/backend_agg.py:183: RuntimeWarning: Glyph 49884 missing from current font.\n",
            "  font.set_text(s, 0, flags=flags)\n",
            "/usr/local/lib/python3.7/dist-packages/matplotlib/backends/backend_agg.py:183: RuntimeWarning: Glyph 44305 missing from current font.\n",
            "  font.set_text(s, 0, flags=flags)\n",
            "/usr/local/lib/python3.7/dist-packages/matplotlib/backends/backend_agg.py:183: RuntimeWarning: Glyph 51064 missing from current font.\n",
            "  font.set_text(s, 0, flags=flags)\n",
            "/usr/local/lib/python3.7/dist-packages/matplotlib/backends/backend_agg.py:183: RuntimeWarning: Glyph 52380 missing from current font.\n",
            "  font.set_text(s, 0, flags=flags)\n",
            "/usr/local/lib/python3.7/dist-packages/matplotlib/backends/backend_agg.py:183: RuntimeWarning: Glyph 49328 missing from current font.\n",
            "  font.set_text(s, 0, flags=flags)\n",
            "/usr/local/lib/python3.7/dist-packages/matplotlib/backends/backend_agg.py:183: RuntimeWarning: Glyph 48512 missing from current font.\n",
            "  font.set_text(s, 0, flags=flags)\n",
            "/usr/local/lib/python3.7/dist-packages/matplotlib/backends/backend_agg.py:183: RuntimeWarning: Glyph 44396 missing from current font.\n",
            "  font.set_text(s, 0, flags=flags)\n",
            "/usr/local/lib/python3.7/dist-packages/matplotlib/backends/backend_agg.py:183: RuntimeWarning: Glyph 51648 missing from current font.\n",
            "  font.set_text(s, 0, flags=flags)\n",
            "/usr/local/lib/python3.7/dist-packages/matplotlib/backends/backend_agg.py:183: RuntimeWarning: Glyph 50669 missing from current font.\n",
            "  font.set_text(s, 0, flags=flags)\n",
            "/usr/local/lib/python3.7/dist-packages/matplotlib/backends/backend_agg.py:214: RuntimeWarning: Glyph 55064 missing from current font.\n",
            "  font.set_text(s, 0.0, flags=flags)\n",
            "/usr/local/lib/python3.7/dist-packages/matplotlib/backends/backend_agg.py:214: RuntimeWarning: Glyph 48156 missing from current font.\n",
            "  font.set_text(s, 0.0, flags=flags)\n",
            "/usr/local/lib/python3.7/dist-packages/matplotlib/backends/backend_agg.py:214: RuntimeWarning: Glyph 50976 missing from current font.\n",
            "  font.set_text(s, 0.0, flags=flags)\n",
            "/usr/local/lib/python3.7/dist-packages/matplotlib/backends/backend_agg.py:183: RuntimeWarning: Glyph 55064 missing from current font.\n",
            "  font.set_text(s, 0, flags=flags)\n",
            "/usr/local/lib/python3.7/dist-packages/matplotlib/backends/backend_agg.py:183: RuntimeWarning: Glyph 48156 missing from current font.\n",
            "  font.set_text(s, 0, flags=flags)\n",
            "/usr/local/lib/python3.7/dist-packages/matplotlib/backends/backend_agg.py:183: RuntimeWarning: Glyph 50976 missing from current font.\n",
            "  font.set_text(s, 0, flags=flags)\n"
          ],
          "name": "stderr"
        },
        {
          "output_type": "display_data",
          "data": {
            "image/png": "[encoded data removed]",
            "text/plain": [
              "<Figure size 1080x504 with 1 Axes>"
            ]
          },
          "metadata": {}
        }
      ]
    },
    {
      "cell_type": "code",
      "metadata": {
        "id": "-wPh9DD81Z0d"
      },
      "source": [
        ""
      ],
      "execution_count": null,
      "outputs": []
    }
  ]
}